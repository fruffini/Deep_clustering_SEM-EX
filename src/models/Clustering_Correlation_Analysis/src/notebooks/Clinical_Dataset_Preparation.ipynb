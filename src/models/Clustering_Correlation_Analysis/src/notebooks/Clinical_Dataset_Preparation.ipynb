{
 "cells": [
  {
   "cell_type": "markdown",
   "source": [
    "---------------------------------------------------------------------------------------------------------------------------------------------------------------------------------\n",
    "---------------------------------------------------------------------------------------------------------------------------------------------------------------------------------\n",
    "\n",
    "# **SEM-EX Clinical Dataset Preparation**\n",
    "\n",
    "### Import Libraries"
   ],
   "metadata": {
    "collapsed": false
   }
  },
  {
   "cell_type": "code",
   "execution_count": 212,
   "outputs": [],
   "source": [
    "\n",
    "import numpy as np\n",
    "import torch\n",
    "import pandas as pd\n",
    "import os\n",
    "import sys\n",
    "os.chdir(r'C:\\Users\\Ruffi\\Desktop\\Deep_clustering_SEM-EX\\src\\models\\Clustering_Correlation_Analysis')\n"
   ],
   "metadata": {
    "collapsed": false
   }
  },
  {
   "cell_type": "markdown",
   "source": [
    "---------------------------------------------------------------------------------------------------------------------------------------------------------------------------------\n",
    "\n",
    "## IMPORT DATA FROM DIRECTORIES: PROSPETTICO\n",
    "### 1) Patient Table\n",
    "Sono importati i dati associati alle features comuni del dataset CLARO-PROSPETTICO"
   ],
   "metadata": {
    "collapsed": false
   }
  },
  {
   "cell_type": "code",
   "execution_count": 213,
   "metadata": {},
   "outputs": [],
   "source": [
    "# In questo punto cerchiamo la tabella di informazioni di CLARO PROSPETTICO - Patients Table\n",
    "directory_clinical_features = r'C:\\Users\\Ruffi\\Desktop\\PHD\\PROGETTI\\ANNO1\\SEM-EX\\DATA\\data\\CLARO\\prospettico\\CLINICAL FEATURES\\CLARO_prospettico_patients_table.xlsx'\n",
    "# CARICHIAMO IL FOGLIO DI FEATURES COMUNI\n",
    "feature_comuni_Patient_Table = pd.read_excel(directory_clinical_features)\n",
    "\n"
   ]
  },
  {
   "cell_type": "markdown",
   "source": [],
   "metadata": {
    "collapsed": false
   }
  },
  {
   "cell_type": "markdown",
   "source": [
    "\n",
    "### PULIZIA DEL DATASET E SELEZIONE DELLE FETURES PRIMARIE\n",
    "\n",
    "* Construction of training Dataset.\n",
    "* Pulizia del dataset da feature mancanti\n",
    "* creazione feature Età paziente\n"
   ],
   "metadata": {
    "collapsed": false
   }
  },
  {
   "cell_type": "code",
   "execution_count": 214,
   "outputs": [
    {
     "name": "stdout",
     "output_type": "stream",
     "text": [
      "['ii b' 'iii a' 'iii b' 'iii c' 'iv' 'iv a' 'iv b' 'recidiva'\n",
      " 'recidiva linfonodale']\n"
     ]
    },
    {
     "data": {
      "text/plain": "     ID paziente Sesso Stadio Data di nascita Data Diagnosi Stato  Età\n0          14474     m    ivb      1947-11-24    2020-04-27   awd   72\n1          58391     m   iiib      1944-03-05    2019-04-20   awd   75\n2          81949     f    ivb      1950-01-27    2020-08-08   awd   70\n3         105098     m     iv      1939-06-14    2019-05-28   dod   79\n4       80119756     m   iiia      1935-08-11    2019-05-17   awd   83\n..           ...   ...    ...             ...           ...   ...  ...\n163   1100041461     f    ivb      1989-07-14    2022-02-03   awd   32\n164   1100041464     f   iiia      1947-03-13    2021-02-02   awd   73\n165   1100049421     f    ivb      1945-01-18    2021-03-18   awd   76\n166   1100060151     m   iiib      1941-02-21    2021-04-07   awd   80\n167   1100069220     m   iiia      1941-07-30    2021-05-04   awd   79\n\n[168 rows x 7 columns]",
      "text/html": "<div>\n<style scoped>\n    .dataframe tbody tr th:only-of-type {\n        vertical-align: middle;\n    }\n\n    .dataframe tbody tr th {\n        vertical-align: top;\n    }\n\n    .dataframe thead th {\n        text-align: right;\n    }\n</style>\n<table border=\"1\" class=\"dataframe\">\n  <thead>\n    <tr style=\"text-align: right;\">\n      <th></th>\n      <th>ID paziente</th>\n      <th>Sesso</th>\n      <th>Stadio</th>\n      <th>Data di nascita</th>\n      <th>Data Diagnosi</th>\n      <th>Stato</th>\n      <th>Età</th>\n    </tr>\n  </thead>\n  <tbody>\n    <tr>\n      <th>0</th>\n      <td>14474</td>\n      <td>m</td>\n      <td>ivb</td>\n      <td>1947-11-24</td>\n      <td>2020-04-27</td>\n      <td>awd</td>\n      <td>72</td>\n    </tr>\n    <tr>\n      <th>1</th>\n      <td>58391</td>\n      <td>m</td>\n      <td>iiib</td>\n      <td>1944-03-05</td>\n      <td>2019-04-20</td>\n      <td>awd</td>\n      <td>75</td>\n    </tr>\n    <tr>\n      <th>2</th>\n      <td>81949</td>\n      <td>f</td>\n      <td>ivb</td>\n      <td>1950-01-27</td>\n      <td>2020-08-08</td>\n      <td>awd</td>\n      <td>70</td>\n    </tr>\n    <tr>\n      <th>3</th>\n      <td>105098</td>\n      <td>m</td>\n      <td>iv</td>\n      <td>1939-06-14</td>\n      <td>2019-05-28</td>\n      <td>dod</td>\n      <td>79</td>\n    </tr>\n    <tr>\n      <th>4</th>\n      <td>80119756</td>\n      <td>m</td>\n      <td>iiia</td>\n      <td>1935-08-11</td>\n      <td>2019-05-17</td>\n      <td>awd</td>\n      <td>83</td>\n    </tr>\n    <tr>\n      <th>...</th>\n      <td>...</td>\n      <td>...</td>\n      <td>...</td>\n      <td>...</td>\n      <td>...</td>\n      <td>...</td>\n      <td>...</td>\n    </tr>\n    <tr>\n      <th>163</th>\n      <td>1100041461</td>\n      <td>f</td>\n      <td>ivb</td>\n      <td>1989-07-14</td>\n      <td>2022-02-03</td>\n      <td>awd</td>\n      <td>32</td>\n    </tr>\n    <tr>\n      <th>164</th>\n      <td>1100041464</td>\n      <td>f</td>\n      <td>iiia</td>\n      <td>1947-03-13</td>\n      <td>2021-02-02</td>\n      <td>awd</td>\n      <td>73</td>\n    </tr>\n    <tr>\n      <th>165</th>\n      <td>1100049421</td>\n      <td>f</td>\n      <td>ivb</td>\n      <td>1945-01-18</td>\n      <td>2021-03-18</td>\n      <td>awd</td>\n      <td>76</td>\n    </tr>\n    <tr>\n      <th>166</th>\n      <td>1100060151</td>\n      <td>m</td>\n      <td>iiib</td>\n      <td>1941-02-21</td>\n      <td>2021-04-07</td>\n      <td>awd</td>\n      <td>80</td>\n    </tr>\n    <tr>\n      <th>167</th>\n      <td>1100069220</td>\n      <td>m</td>\n      <td>iiia</td>\n      <td>1941-07-30</td>\n      <td>2021-05-04</td>\n      <td>awd</td>\n      <td>79</td>\n    </tr>\n  </tbody>\n</table>\n<p>168 rows × 7 columns</p>\n</div>"
     },
     "metadata": {},
     "output_type": "display_data"
    }
   ],
   "source": [
    "# Eliminiamo dal dataset le righe che non hanno la data di diagnosi e lo stato\n",
    "feature_comuni_filter = feature_comuni_Patient_Table.dropna(subset=['Data Diagnosi', 'Stato'])\n",
    "# Primo dataset Prospettico con features\n",
    "# Lista Attributi di interesse nel dataset 'ID paziente', 'Sesso', 'Stadio alla diagnosi', 'Data di nascita', 'Data Diagnosi', 'Stato'\n",
    "\n",
    "Clinical_Dataset_Final = feature_comuni_filter[['ID paziente', 'Sesso', 'Stadio alla diagnosi','Data di nascita', 'Data Diagnosi', 'Stato']].rename(columns={\"Stadio alla diagnosi\": 'Stadio'})\n",
    "\n",
    "\n",
    "print(np.unique(Clinical_Dataset_Final['Stadio'].to_frame()))\n",
    "# Sostituiamo lo Stadio con i valori: 'ii b','recidiva linfonodale', 'recidiva'; con il valore -> 'other'\n",
    "Map_stadio = {'altro': 'altro',\n",
    "              'iii a': 'iii',\n",
    "              'iii b': 'iii',\n",
    "              'iii c': 'iii',\n",
    "              'iv': 'iv',\n",
    "              'iv a': 'iv',\n",
    "              'iv b':'iv',\n",
    "              'ii b':'altro',\n",
    "              'recidiva linfonodale':'altro',\n",
    "              'recidiva':'altro'}\n",
    "\n",
    "Clinical_Dataset_Final['Stadio'] = Clinical_Dataset_Final['Stadio'].map(Map_stadio)\n",
    "# Aggiungiamo la colonna con l'età dei pazienti:\n",
    "Clinical_Dataset_Final['Età'] = np.abs(\n",
    "    Clinical_Dataset_Final['Data di nascita'] -\n",
    "    Clinical_Dataset_Final['Data Diagnosi']\n",
    ").astype('timedelta64[Y]').astype(int)\n",
    "# Togliamo Dal Dataset le DATE: 'Data di Nascita', 'Data Diagnosi'\n",
    "Clinical_Dataset_Final.sort_values(by=['ID paziente'],inplace=True)\n",
    "# Ottengo la tabella con tutte le features necessarie:\n",
    "Clinical_Dataset_Final= Clinical_Dataset_Final.reset_index(drop=True)\n",
    "display(Clinical_Dataset_Final)"
   ],
   "metadata": {
    "collapsed": false
   }
  },
  {
   "cell_type": "markdown",
   "source": [],
   "metadata": {
    "collapsed": false
   }
  },
  {
   "cell_type": "markdown",
   "source": [
    "### Estraiamo gli ID-Pazienti in un vettore separato dalla tabella Features Comuni"
   ],
   "metadata": {
    "collapsed": false
   }
  },
  {
   "cell_type": "code",
   "execution_count": 215,
   "outputs": [],
   "source": [
    "# Estraggo gli Id pazienti dalla colonna della tabella:\n",
    "ID_pazienti_FC = Clinical_Dataset_Final['ID paziente'].to_frame().astype(int)\n",
    "# In questo punto quello che faccio è trasformare il dataframe in una lista di ID numerici\n",
    "list_ID_pazienti_FC = np.sort(list(ID_pazienti_FC['ID paziente']))"
   ],
   "metadata": {
    "collapsed": false
   }
  },
  {
   "cell_type": "markdown",
   "source": [
    "### 2) Clinical DATA: III & IV Stadio e Antomia Patologica\n",
    "Sono importati i dati associati alle features comuni del dataset CLARO-PROSPETTICO"
   ],
   "metadata": {
    "collapsed": false
   }
  },
  {
   "cell_type": "code",
   "execution_count": 216,
   "outputs": [],
   "source": [
    "\n",
    "# In questo punto cerchiamo la tabella di informazioni di CLARO PROSPETTICO - Clinical DB\n",
    "directory_clinical_features = r'C:\\Users\\Ruffi\\Desktop\\PHD\\PROGETTI\\ANNO1\\SEM-EX\\DATA\\data\\CLARO\\prospettico\\CLINICAL FEATURES\\CLARO_prospettico_clinical_db.xlsx'\n",
    "# CARICHIAMO IL FOGLIO DI FEATURES COMUNI\n",
    "clinical_Data = pd.read_excel(directory_clinical_features)\n",
    "# cambiamo gli indici della matrice e mettiamo un doppio indice alle colonne\n",
    "columns = clinical_Data.columns.to_list(\n",
    ")\n",
    "# Creazione di un nuovo indice multiplo per il Dataframe\n",
    "index_new_unique  = [column for column in columns if 'Unnamed' not in column ]\n",
    "string = index_new_unique[0]\n",
    "array_new_index = list()\n",
    "# Primo Indice\n",
    "for column in columns:\n",
    "    if column in index_new_unique:\n",
    "        string = column\n",
    "    array_new_index.append(string)\n",
    "# Secondo indice\n",
    "first_row = clinical_Data.loc[0,:].to_frame().reset_index()\n",
    "second_row = clinical_Data.loc[1,:].to_frame().reset_index()\n",
    "first_row.loc[0] = second_row.iloc[0][1]\n",
    "\n",
    "# Indici insieme\n",
    "arrays = [\n",
    "    list(array_new_index),\n",
    "    list(first_row.T.loc[0,:])\n",
    "]\n",
    "# Tupla scomposta ( taglio il vettore N * 2  in N tuple da 2 elementi )\n",
    "tuples = list(zip(*arrays))\n",
    "# Creazione del Dataframe modificato con colonne in MultiIndex di pandas\n",
    "clinical_Data.columns = arrays\n",
    "clinical_Data = clinical_Data.drop([0,1]).reset_index(drop=True)\n",
    "# Select Clinical Data"
   ],
   "metadata": {
    "collapsed": false
   }
  },
  {
   "cell_type": "markdown",
   "source": [],
   "metadata": {
    "collapsed": false
   }
  },
  {
   "cell_type": "markdown",
   "source": [
    "### 1)  Estraiamo gli ID-Pazienti in un vettore separato dalla tabella Features cliniche"
   ],
   "metadata": {
    "collapsed": false
   }
  },
  {
   "cell_type": "code",
   "execution_count": 217,
   "outputs": [],
   "source": [
    "\n",
    "# CLinical Database Patients\n",
    "ID_pazienti_CD = clinical_Data.feature_comuni['ID paziente'].astype(int)\n",
    "# Lista di tutt gli ID pazienti nel dataset raw\n",
    "list_ID_pazienti_CD = np.sort(list(ID_pazienti_CD))"
   ],
   "metadata": {
    "collapsed": false
   }
  },
  {
   "cell_type": "markdown",
   "source": [],
   "metadata": {
    "collapsed": false
   }
  },
  {
   "cell_type": "markdown",
   "source": [
    "\n",
    "## 2) Separazione del Clinical dataset di Claro prospettico rispetto i diversi fogli del foglio excel\n",
    "Elimino Dal dataset i pazienti non presenti nelle features finali"
   ],
   "metadata": {
    "collapsed": false
   }
  },
  {
   "cell_type": "code",
   "execution_count": 218,
   "outputs": [
    {
     "data": {
      "text/plain": "125         14474\n91          15803\n85          28142\n15          58391\n152         81949\n          ...    \n201    1100041461\n206    1100041464\n202    1100049421\n203    1100060151\n208    1100069220\nName: (feature_comuni, ID paziente), Length: 209, dtype: int32"
     },
     "metadata": {},
     "output_type": "display_data"
    },
    {
     "data": {
      "text/plain": "    feature_comuni                                \\\n       ID paziente         CRA TAC utilizzabile?   \n0            14474    96014639                si   \n1            58391  CC01002254                si   \n2            81949  CC02011152                si   \n3           105098  CC04002982                si   \n4         80119756  CC07006641                no   \n..             ...         ...               ...   \n163     1100041461         NaN               NaN   \n164     1100041464         NaN               NaN   \n165     1100049421         NaN               NaN   \n166     1100060151         NaN               NaN   \n167     1100069220         NaN               NaN   \n\n                                                                             \\\n    Studio: retrospettivo/ prospettico Sesso      Data di nascita Peso (kg)   \n0                          prospettico     m  1947-11-24 00:00:00       NaN   \n1                          prospettico     m  1944-03-05 00:00:00        82   \n2                          prospettico     f  1950-01-27 00:00:00       NaN   \n3                          prospettico     m  1939-06-14 00:00:00       NaN   \n4                          prospettico     m  1935-08-11 00:00:00       NaN   \n..                                 ...   ...                  ...       ...   \n163                        prospettico     f  1989-07-14 00:00:00       NaN   \n164                        prospettico     f  1947-03-13 00:00:00        56   \n165                        prospettico     f  1945-01-18 00:00:00       NaN   \n166                        prospettico     m  1941-02-21 00:00:00        52   \n167                        prospettico     m  1941-07-30 00:00:00       NaN   \n\n                                                                      ...  \\\n    Altezza (cm)              Arruolato da... Provenienza Istologico  ...   \n0            NaN                2 = oncologia                    NaN  ...   \n1            163  1 = radioterapia oncologica                0 = cbm  ...   \n2            NaN                2 = oncologia                    NaN  ...   \n3            NaN                2 = oncologia                    NaN  ...   \n4            NaN  1 = radioterapia oncologica                    NaN  ...   \n..           ...                          ...                    ...  ...   \n163          NaN                2 = oncologia                    NaN  ...   \n164          162  1 = radioterapia oncologica                0 = cbm  ...   \n165          NaN                2 = oncologia                    NaN  ...   \n166          160  1 = radioterapia oncologica            1 = altrove  ...   \n167          NaN  1 = radioterapia oncologica                    NaN  ...   \n\n     anatomia_patologica                                                \\\n           Data prelievo          Sede prelievo   Modalità di prelievo   \n0    2020-04-24 00:00:00             0= polmone         1= tac guidato   \n1    2019-04-19 00:00:00             0= polmone         1= tac guidato   \n2                    NaN  3= linfonodo toracico                2= tbna   \n3    2019-05-27 00:00:00             0= polmone  3= altro (percutanea)   \n4    2019-05-17 00:00:00             0= polmone         1= tac guidato   \n..                   ...                    ...                    ...   \n163                  NaN                    NaN                    NaN   \n164                  NaN             0= polmone         1= tac guidato   \n165                  NaN                    NaN                    NaN   \n166                  NaN                    NaN                    NaN   \n167                  NaN                    NaN                    NaN   \n\n                                                                        \\\n                  Diagnosi    IHC Mutazione gene EGFR              ALK   \n0        0= adenocarcinoma  1= si         8 = ex19del      1= negativo   \n1    1= carcinoma squamoso  1= si    0 = non eseguito  0= non eseguito   \n2        0= adenocarcinoma    NaN                 NaN              NaN   \n3        0= adenocarcinoma  1= si        1 = negativo      1= negativo   \n4        0= adenocarcinoma  1= si        1 = negativo      1= negativo   \n..                     ...    ...                 ...              ...   \n163                    NaN    NaN                 NaN              NaN   \n164      0= adenocarcinoma  1= si        1 = negativo      1= negativo   \n165                    NaN    NaN                 NaN              NaN   \n166                    NaN    NaN                 NaN              NaN   \n167                    NaN    NaN                 NaN              NaN   \n\n                                      \n                ROS1 PDL1(%)     NGS  \n0        1= negativo       0  0 = no  \n1    0= non eseguito       0  0 = no  \n2                NaN     NaN     NaN  \n3        1= negativo     NaN  0 = no  \n4        1= negativo     0.1  0 = no  \n..               ...     ...     ...  \n163              NaN     NaN     NaN  \n164      1= negativo    0.95     NaN  \n165              NaN     NaN     NaN  \n166              NaN     NaN     NaN  \n167              NaN     NaN     NaN  \n\n[168 rows x 202 columns]",
      "text/html": "<div>\n<style scoped>\n    .dataframe tbody tr th:only-of-type {\n        vertical-align: middle;\n    }\n\n    .dataframe tbody tr th {\n        vertical-align: top;\n    }\n\n    .dataframe thead tr th {\n        text-align: left;\n    }\n</style>\n<table border=\"1\" class=\"dataframe\">\n  <thead>\n    <tr>\n      <th></th>\n      <th colspan=\"10\" halign=\"left\">feature_comuni</th>\n      <th>...</th>\n      <th colspan=\"10\" halign=\"left\">anatomia_patologica</th>\n    </tr>\n    <tr>\n      <th></th>\n      <th>ID paziente</th>\n      <th>CRA</th>\n      <th>TAC utilizzabile?</th>\n      <th>Studio: retrospettivo/ prospettico</th>\n      <th>Sesso</th>\n      <th>Data di nascita</th>\n      <th>Peso (kg)</th>\n      <th>Altezza (cm)</th>\n      <th>Arruolato da...</th>\n      <th>Provenienza Istologico</th>\n      <th>...</th>\n      <th>Data prelievo</th>\n      <th>Sede prelievo</th>\n      <th>Modalità di prelievo</th>\n      <th>Diagnosi</th>\n      <th>IHC</th>\n      <th>Mutazione gene EGFR</th>\n      <th>ALK</th>\n      <th>ROS1</th>\n      <th>PDL1(%)</th>\n      <th>NGS</th>\n    </tr>\n  </thead>\n  <tbody>\n    <tr>\n      <th>0</th>\n      <td>14474</td>\n      <td>96014639</td>\n      <td>si</td>\n      <td>prospettico</td>\n      <td>m</td>\n      <td>1947-11-24 00:00:00</td>\n      <td>NaN</td>\n      <td>NaN</td>\n      <td>2 = oncologia</td>\n      <td>NaN</td>\n      <td>...</td>\n      <td>2020-04-24 00:00:00</td>\n      <td>0= polmone</td>\n      <td>1= tac guidato</td>\n      <td>0= adenocarcinoma</td>\n      <td>1= si</td>\n      <td>8 = ex19del</td>\n      <td>1= negativo</td>\n      <td>1= negativo</td>\n      <td>0</td>\n      <td>0 = no</td>\n    </tr>\n    <tr>\n      <th>1</th>\n      <td>58391</td>\n      <td>CC01002254</td>\n      <td>si</td>\n      <td>prospettico</td>\n      <td>m</td>\n      <td>1944-03-05 00:00:00</td>\n      <td>82</td>\n      <td>163</td>\n      <td>1 = radioterapia oncologica</td>\n      <td>0 = cbm</td>\n      <td>...</td>\n      <td>2019-04-19 00:00:00</td>\n      <td>0= polmone</td>\n      <td>1= tac guidato</td>\n      <td>1= carcinoma squamoso</td>\n      <td>1= si</td>\n      <td>0 = non eseguito</td>\n      <td>0= non eseguito</td>\n      <td>0= non eseguito</td>\n      <td>0</td>\n      <td>0 = no</td>\n    </tr>\n    <tr>\n      <th>2</th>\n      <td>81949</td>\n      <td>CC02011152</td>\n      <td>si</td>\n      <td>prospettico</td>\n      <td>f</td>\n      <td>1950-01-27 00:00:00</td>\n      <td>NaN</td>\n      <td>NaN</td>\n      <td>2 = oncologia</td>\n      <td>NaN</td>\n      <td>...</td>\n      <td>NaN</td>\n      <td>3= linfonodo toracico</td>\n      <td>2= tbna</td>\n      <td>0= adenocarcinoma</td>\n      <td>NaN</td>\n      <td>NaN</td>\n      <td>NaN</td>\n      <td>NaN</td>\n      <td>NaN</td>\n      <td>NaN</td>\n    </tr>\n    <tr>\n      <th>3</th>\n      <td>105098</td>\n      <td>CC04002982</td>\n      <td>si</td>\n      <td>prospettico</td>\n      <td>m</td>\n      <td>1939-06-14 00:00:00</td>\n      <td>NaN</td>\n      <td>NaN</td>\n      <td>2 = oncologia</td>\n      <td>NaN</td>\n      <td>...</td>\n      <td>2019-05-27 00:00:00</td>\n      <td>0= polmone</td>\n      <td>3= altro (percutanea)</td>\n      <td>0= adenocarcinoma</td>\n      <td>1= si</td>\n      <td>1 = negativo</td>\n      <td>1= negativo</td>\n      <td>1= negativo</td>\n      <td>NaN</td>\n      <td>0 = no</td>\n    </tr>\n    <tr>\n      <th>4</th>\n      <td>80119756</td>\n      <td>CC07006641</td>\n      <td>no</td>\n      <td>prospettico</td>\n      <td>m</td>\n      <td>1935-08-11 00:00:00</td>\n      <td>NaN</td>\n      <td>NaN</td>\n      <td>1 = radioterapia oncologica</td>\n      <td>NaN</td>\n      <td>...</td>\n      <td>2019-05-17 00:00:00</td>\n      <td>0= polmone</td>\n      <td>1= tac guidato</td>\n      <td>0= adenocarcinoma</td>\n      <td>1= si</td>\n      <td>1 = negativo</td>\n      <td>1= negativo</td>\n      <td>1= negativo</td>\n      <td>0.1</td>\n      <td>0 = no</td>\n    </tr>\n    <tr>\n      <th>...</th>\n      <td>...</td>\n      <td>...</td>\n      <td>...</td>\n      <td>...</td>\n      <td>...</td>\n      <td>...</td>\n      <td>...</td>\n      <td>...</td>\n      <td>...</td>\n      <td>...</td>\n      <td>...</td>\n      <td>...</td>\n      <td>...</td>\n      <td>...</td>\n      <td>...</td>\n      <td>...</td>\n      <td>...</td>\n      <td>...</td>\n      <td>...</td>\n      <td>...</td>\n      <td>...</td>\n    </tr>\n    <tr>\n      <th>163</th>\n      <td>1100041461</td>\n      <td>NaN</td>\n      <td>NaN</td>\n      <td>prospettico</td>\n      <td>f</td>\n      <td>1989-07-14 00:00:00</td>\n      <td>NaN</td>\n      <td>NaN</td>\n      <td>2 = oncologia</td>\n      <td>NaN</td>\n      <td>...</td>\n      <td>NaN</td>\n      <td>NaN</td>\n      <td>NaN</td>\n      <td>NaN</td>\n      <td>NaN</td>\n      <td>NaN</td>\n      <td>NaN</td>\n      <td>NaN</td>\n      <td>NaN</td>\n      <td>NaN</td>\n    </tr>\n    <tr>\n      <th>164</th>\n      <td>1100041464</td>\n      <td>NaN</td>\n      <td>NaN</td>\n      <td>prospettico</td>\n      <td>f</td>\n      <td>1947-03-13 00:00:00</td>\n      <td>56</td>\n      <td>162</td>\n      <td>1 = radioterapia oncologica</td>\n      <td>0 = cbm</td>\n      <td>...</td>\n      <td>NaN</td>\n      <td>0= polmone</td>\n      <td>1= tac guidato</td>\n      <td>0= adenocarcinoma</td>\n      <td>1= si</td>\n      <td>1 = negativo</td>\n      <td>1= negativo</td>\n      <td>1= negativo</td>\n      <td>0.95</td>\n      <td>NaN</td>\n    </tr>\n    <tr>\n      <th>165</th>\n      <td>1100049421</td>\n      <td>NaN</td>\n      <td>NaN</td>\n      <td>prospettico</td>\n      <td>f</td>\n      <td>1945-01-18 00:00:00</td>\n      <td>NaN</td>\n      <td>NaN</td>\n      <td>2 = oncologia</td>\n      <td>NaN</td>\n      <td>...</td>\n      <td>NaN</td>\n      <td>NaN</td>\n      <td>NaN</td>\n      <td>NaN</td>\n      <td>NaN</td>\n      <td>NaN</td>\n      <td>NaN</td>\n      <td>NaN</td>\n      <td>NaN</td>\n      <td>NaN</td>\n    </tr>\n    <tr>\n      <th>166</th>\n      <td>1100060151</td>\n      <td>NaN</td>\n      <td>NaN</td>\n      <td>prospettico</td>\n      <td>m</td>\n      <td>1941-02-21 00:00:00</td>\n      <td>52</td>\n      <td>160</td>\n      <td>1 = radioterapia oncologica</td>\n      <td>1 = altrove</td>\n      <td>...</td>\n      <td>NaN</td>\n      <td>NaN</td>\n      <td>NaN</td>\n      <td>NaN</td>\n      <td>NaN</td>\n      <td>NaN</td>\n      <td>NaN</td>\n      <td>NaN</td>\n      <td>NaN</td>\n      <td>NaN</td>\n    </tr>\n    <tr>\n      <th>167</th>\n      <td>1100069220</td>\n      <td>NaN</td>\n      <td>NaN</td>\n      <td>prospettico</td>\n      <td>m</td>\n      <td>1941-07-30 00:00:00</td>\n      <td>NaN</td>\n      <td>NaN</td>\n      <td>1 = radioterapia oncologica</td>\n      <td>NaN</td>\n      <td>...</td>\n      <td>NaN</td>\n      <td>NaN</td>\n      <td>NaN</td>\n      <td>NaN</td>\n      <td>NaN</td>\n      <td>NaN</td>\n      <td>NaN</td>\n      <td>NaN</td>\n      <td>NaN</td>\n      <td>NaN</td>\n    </tr>\n  </tbody>\n</table>\n<p>168 rows × 202 columns</p>\n</div>"
     },
     "metadata": {},
     "output_type": "display_data"
    }
   ],
   "source": [
    "# Separiamo i diversi Dataframe secondo le fasi di interesse\n",
    "# 0) Features Cliniche di Base da Patient Table / ID pazienti selezionati rispetto filtro base su Data Diagnosi e stato / Clinical Data\n",
    "# Scarto i pazienti non presenti in ID_pazienti_FC dal DB Clinico e li ordino secondo l'id Paziente:\n",
    "clinical_Data[(     'feature_comuni',                        'ID paziente')] = clinical_Data[(     'feature_comuni',                        'ID paziente')].astype(int)\n",
    "display(clinical_Data[(     'feature_comuni',                        'ID paziente')].sort_values())\n",
    "Clinical_DB = clinical_Data.sort_values(by=[(     'feature_comuni',                        'ID paziente')])\n",
    "Clinical_DB = Clinical_DB[[patient in list_ID_pazienti_FC for patient in list_ID_pazienti_CD]].reset_index(drop=True)\n",
    "display(Clinical_DB)"
   ],
   "metadata": {
    "collapsed": false
   }
  },
  {
   "cell_type": "code",
   "execution_count": 219,
   "outputs": [],
   "source": [
    "# 1) feature comuni\n",
    "feature_comuni_CD = Clinical_DB.feature_comuni.copy(deep=True)\n",
    "# 2) Terzo Stadio\n",
    "\n",
    "III_stadio_Clinical_CD = Clinical_DB.iii_stadio.copy(deep=True)\n",
    "# 3) Quarto Stadio\n",
    "\n",
    "# Da Clinical DB\n",
    "IV_stadio_Clinical_CD = Clinical_DB.iv_stadio.copy(deep=True)\n",
    "\n",
    "# 4) Anatomia Patologica\n",
    "An_Patologica = Clinical_DB.anatomia_patologica.copy(deep=True)\n",
    "\n",
    "\n",
    "\n"
   ],
   "metadata": {
    "collapsed": false
   }
  },
  {
   "cell_type": "code",
   "execution_count": 220,
   "outputs": [
    {
     "name": "stdout",
     "output_type": "stream",
     "text": [
      "(array(['0 = 3dcrt', '1 = vmat', '2 = imrt', '4 = mista', 'nan'],\n",
      "      dtype='<U9'), array([ 1, 68,  1,  4, 94], dtype=int64))\n",
      "(array([0., 1.]), array([100,  68], dtype=int64))\n",
      "(array([0., 1.]), array([150,  18], dtype=int64))\n",
      "(array(['chemio-immunoterapia', 'chemioterapia', 'immunoterapia', 'nan',\n",
      "       'terapia target'], dtype='<U20'), array([32, 26, 18, 70, 22], dtype=int64))\n",
      "(array(['chemio-immunoterapia', 'chemioterapia', 'immunoterapia', 'mista',\n",
      "       'radio', 'radio/chemio', 'terapia target'], dtype=object), array([32, 23, 17,  4, 66,  4, 22], dtype=int64))\n",
      "0            terapia target\n",
      "1                     radio\n",
      "2             chemioterapia\n",
      "3             immunoterapia\n",
      "4                     radio\n",
      "               ...         \n",
      "163          terapia target\n",
      "164                   radio\n",
      "165    chemio-immunoterapia\n",
      "166                   radio\n",
      "167                   radio\n",
      "Length: 168, dtype: object\n"
     ]
    }
   ],
   "source": [
    "# Funzione per determinare il trattamento primario:\n",
    "def boolean_RT_CT(RT, CT):\n",
    "    RT = RT.strip().split('=')[-1]\n",
    "    if RT == 'nan' and CT != 'nan':\n",
    "        return CT\n",
    "    elif RT != 'nan' and CT == 'nan':\n",
    "        return RT\n",
    "    elif RT != 'nan' and CT != 'nan':\n",
    "        return RT + '/' + CT\n",
    "    else:\n",
    "        return 'nan'\n",
    "\n",
    "\n",
    "# Estraiamo dal Dataset III e IV stadio il trattamento primario adottato al paziente\n",
    "# Trattamento Tecnica Radio Terapia 3 stadio\n",
    "Trattamento_Radio_Tecnica = III_stadio_Clinical_CD['Tecnica'].astype(str)\n",
    "list_RT = Trattamento_Radio_Tecnica.to_list()\n",
    "# Lista dei trattamenti cancro al polmone III stadio\n",
    "print( np.unique(list_RT,return_counts=True))\n",
    "\n",
    "# ------------------------------------------------------------------------------------------------------------------------------------------------------------------------------------------------------------------------------------------------------------\n",
    "# Chirurgia III stadio/ Chemioterapia Concomitante\n",
    "Trattamento_CT_III = III_stadio_Clinical_CD['CT conc SI/NO'].map({'si': 1, 'no': 0}).fillna(0)\n",
    "list_trattamenti_III = Trattamento_CT_III.to_list()\n",
    "print( np.unique(list_trattamenti_III,return_counts=True))\n",
    "\n",
    "\n",
    "Trattamento_CHIRURGIA_III = III_stadio_Clinical_CD['Chirurgia dopo NAD'].map({'si': 1, 'no': 0}).fillna(0)\n",
    "list_CH_III = Trattamento_CHIRURGIA_III.to_list()\n",
    "print( np.unique(Trattamento_CHIRURGIA_III,return_counts=True))\n",
    "# ------------------------------------------------------------------------------------------------------------------------------------------------------------------------------------------------------------------------------------------------------------\n",
    "# Trattamento ChemioTerapico IV stadio\n",
    "Trattamento_CT_IMM = IV_stadio_Clinical_CD['Prima linea di trattamento'].astype(str)\n",
    "list_CT = Trattamento_CT_IMM.to_list()\n",
    "print( np.unique(list_CT,return_counts=True))\n",
    "\n",
    "\n",
    "# ------------------------------------------------------------------------------------------------------------------------------------------------------------------------------------------------------------------------------------------------------------\n",
    "# Cambiamo i nomi dei valori nei Trattamenti e nella Diagnosi di anatomia Patologica\n",
    "\n",
    "# Creazione della colonna per i trattamenti primari\n",
    "mapper_terapia= {' 3dcrt': 'radio',\n",
    "          ' imrt':'radio',\n",
    "          ' mista':'mista',\n",
    "          ' vmat': 'radio',\n",
    "          ' vmat/chemioterapia':'radio/chemio',\n",
    "          ' vmat/immunoterapia':'radio/chemio',\n",
    "          'chemio-immunoterapia':'chemio-immunoterapia',\n",
    "          'chemioterapia':'chemioterapia',\n",
    "          'immunoterapia':'immunoterapia',\n",
    "          'nan':'altro',\n",
    "          'terapia target':'terapia target'}\n",
    "trattamenti_TumorePolmone = pd.Series([boolean_RT_CT(RT, CT) for RT, CT in zip(list_RT, list_CT)]).map(mapper_terapia)\n",
    "\n",
    "# Mapper\n",
    "print( np.unique(trattamenti_TumorePolmone,return_counts=True))\n",
    "print(trattamenti_TumorePolmone)\n",
    "\n",
    "\n",
    "# Creazione della colonna per la diagnosi Istologica del tumore\n",
    "Colonna_Diagnosi_Ist = An_Patologica['Diagnosi'].astype(str)\n",
    "keys = np.unique(Colonna_Diagnosi_Ist, return_counts=True)\n",
    "# Dictionary Mapper for Dataframe ANATOMIA PATOLOGCIA\n",
    "dictionary_mapper = {'0= adenocarcinoma': 'adenocarcinoma',\n",
    "                     '1= carcinoma squamoso': 'carcinoma squamoso',\n",
    "                     '2= carcinoma a piccole cellule': 'carcinoma',\n",
    "                     '4= adenosquamoso': 'altro',\n",
    "                     '5= nsclc, nas': 'nas',\n",
    "                     '6= altro (carcinoma)': 'carcinoma',\n",
    "                      '6= altro (neoplasia epiteliomorfa)': 'altro',\n",
    "                     'nan': 'altro'}\n",
    "Colonna_Diagnosi_Ist = Colonna_Diagnosi_Ist.map(dictionary_mapper)\n",
    "\n",
    "# applichiamo il mapping anche ad altre colonne\n",
    "\n",
    "\n",
    "\n",
    "# aggiungiamo la colonna alle feature finali\n",
    "\n",
    "\n",
    "Clinical_Dataset_Final['Trattamento'] = trattamenti_TumorePolmone\n",
    "\n",
    "Clinical_Dataset_Final['Diagnosi Istologica'] = Colonna_Diagnosi_Ist\n",
    "\n",
    "Clinical_Dataset_Final['CT_concomitante'] = Trattamento_CT_III\n",
    "\n",
    "Clinical_Dataset_Final['Chirurgia'] = Trattamento_CHIRURGIA_III\n",
    "\n",
    "Clinical_Dataset_Final[['cT', 'cN', 'cM']] = feature_comuni_CD[['cT','cN','cM']]\n",
    "\n"
   ],
   "metadata": {
    "collapsed": false
   }
  },
  {
   "cell_type": "code",
   "execution_count": 221,
   "outputs": [
    {
     "data": {
      "text/plain": "     ID paziente Sesso Stadio Data di nascita Data Diagnosi Stato  Età  \\\n0          14474     m    ivb      1947-11-24    2020-04-27   awd   72   \n1          58391     m   iiib      1944-03-05    2019-04-20   awd   75   \n2          81949     f    ivb      1950-01-27    2020-08-08   awd   70   \n3         105098     m     iv      1939-06-14    2019-05-28   dod   79   \n4       80119756     m   iiia      1935-08-11    2019-05-17   awd   83   \n..           ...   ...    ...             ...           ...   ...  ...   \n163   1100041461     f    ivb      1989-07-14    2022-02-03   awd   32   \n164   1100041464     f   iiia      1947-03-13    2021-02-02   awd   73   \n165   1100049421     f    ivb      1945-01-18    2021-03-18   awd   76   \n166   1100060151     m   iiib      1941-02-21    2021-04-07   awd   80   \n167   1100069220     m   iiia      1941-07-30    2021-05-04   awd   79   \n\n              Trattamento            Diagnosi  CT_concomitante  Chirurgia  \\\n0          terapia target      adenocarcinoma              0.0        0.0   \n1                   radio  carcinoma squamoso              1.0        0.0   \n2           chemioterapia      adenocarcinoma              0.0        0.0   \n3           immunoterapia      adenocarcinoma              0.0        0.0   \n4                   radio      adenocarcinoma              1.0        0.0   \n..                    ...                 ...              ...        ...   \n163        terapia target               altro              0.0        0.0   \n164                 radio      adenocarcinoma              1.0        0.0   \n165  chemio-immunoterapia               altro              0.0        0.0   \n166                 radio               altro              1.0        0.0   \n167                 radio               altro              1.0        0.0   \n\n      cT   cN   cM  \n0    NaN  NaN  NaN  \n1      3    2    0  \n2    NaN  NaN  NaN  \n3    NaN  NaN  NaN  \n4      3    1    0  \n..   ...  ...  ...  \n163  NaN  NaN  NaN  \n164    2    2    0  \n165  NaN  NaN  NaN  \n166    4    2    0  \n167    2    2    0  \n\n[168 rows x 14 columns]",
      "text/html": "<div>\n<style scoped>\n    .dataframe tbody tr th:only-of-type {\n        vertical-align: middle;\n    }\n\n    .dataframe tbody tr th {\n        vertical-align: top;\n    }\n\n    .dataframe thead th {\n        text-align: right;\n    }\n</style>\n<table border=\"1\" class=\"dataframe\">\n  <thead>\n    <tr style=\"text-align: right;\">\n      <th></th>\n      <th>ID paziente</th>\n      <th>Sesso</th>\n      <th>Stadio</th>\n      <th>Data di nascita</th>\n      <th>Data Diagnosi</th>\n      <th>Stato</th>\n      <th>Età</th>\n      <th>Trattamento</th>\n      <th>Diagnosi</th>\n      <th>CT_concomitante</th>\n      <th>Chirurgia</th>\n      <th>cT</th>\n      <th>cN</th>\n      <th>cM</th>\n    </tr>\n  </thead>\n  <tbody>\n    <tr>\n      <th>0</th>\n      <td>14474</td>\n      <td>m</td>\n      <td>ivb</td>\n      <td>1947-11-24</td>\n      <td>2020-04-27</td>\n      <td>awd</td>\n      <td>72</td>\n      <td>terapia target</td>\n      <td>adenocarcinoma</td>\n      <td>0.0</td>\n      <td>0.0</td>\n      <td>NaN</td>\n      <td>NaN</td>\n      <td>NaN</td>\n    </tr>\n    <tr>\n      <th>1</th>\n      <td>58391</td>\n      <td>m</td>\n      <td>iiib</td>\n      <td>1944-03-05</td>\n      <td>2019-04-20</td>\n      <td>awd</td>\n      <td>75</td>\n      <td>radio</td>\n      <td>carcinoma squamoso</td>\n      <td>1.0</td>\n      <td>0.0</td>\n      <td>3</td>\n      <td>2</td>\n      <td>0</td>\n    </tr>\n    <tr>\n      <th>2</th>\n      <td>81949</td>\n      <td>f</td>\n      <td>ivb</td>\n      <td>1950-01-27</td>\n      <td>2020-08-08</td>\n      <td>awd</td>\n      <td>70</td>\n      <td>chemioterapia</td>\n      <td>adenocarcinoma</td>\n      <td>0.0</td>\n      <td>0.0</td>\n      <td>NaN</td>\n      <td>NaN</td>\n      <td>NaN</td>\n    </tr>\n    <tr>\n      <th>3</th>\n      <td>105098</td>\n      <td>m</td>\n      <td>iv</td>\n      <td>1939-06-14</td>\n      <td>2019-05-28</td>\n      <td>dod</td>\n      <td>79</td>\n      <td>immunoterapia</td>\n      <td>adenocarcinoma</td>\n      <td>0.0</td>\n      <td>0.0</td>\n      <td>NaN</td>\n      <td>NaN</td>\n      <td>NaN</td>\n    </tr>\n    <tr>\n      <th>4</th>\n      <td>80119756</td>\n      <td>m</td>\n      <td>iiia</td>\n      <td>1935-08-11</td>\n      <td>2019-05-17</td>\n      <td>awd</td>\n      <td>83</td>\n      <td>radio</td>\n      <td>adenocarcinoma</td>\n      <td>1.0</td>\n      <td>0.0</td>\n      <td>3</td>\n      <td>1</td>\n      <td>0</td>\n    </tr>\n    <tr>\n      <th>...</th>\n      <td>...</td>\n      <td>...</td>\n      <td>...</td>\n      <td>...</td>\n      <td>...</td>\n      <td>...</td>\n      <td>...</td>\n      <td>...</td>\n      <td>...</td>\n      <td>...</td>\n      <td>...</td>\n      <td>...</td>\n      <td>...</td>\n      <td>...</td>\n    </tr>\n    <tr>\n      <th>163</th>\n      <td>1100041461</td>\n      <td>f</td>\n      <td>ivb</td>\n      <td>1989-07-14</td>\n      <td>2022-02-03</td>\n      <td>awd</td>\n      <td>32</td>\n      <td>terapia target</td>\n      <td>altro</td>\n      <td>0.0</td>\n      <td>0.0</td>\n      <td>NaN</td>\n      <td>NaN</td>\n      <td>NaN</td>\n    </tr>\n    <tr>\n      <th>164</th>\n      <td>1100041464</td>\n      <td>f</td>\n      <td>iiia</td>\n      <td>1947-03-13</td>\n      <td>2021-02-02</td>\n      <td>awd</td>\n      <td>73</td>\n      <td>radio</td>\n      <td>adenocarcinoma</td>\n      <td>1.0</td>\n      <td>0.0</td>\n      <td>2</td>\n      <td>2</td>\n      <td>0</td>\n    </tr>\n    <tr>\n      <th>165</th>\n      <td>1100049421</td>\n      <td>f</td>\n      <td>ivb</td>\n      <td>1945-01-18</td>\n      <td>2021-03-18</td>\n      <td>awd</td>\n      <td>76</td>\n      <td>chemio-immunoterapia</td>\n      <td>altro</td>\n      <td>0.0</td>\n      <td>0.0</td>\n      <td>NaN</td>\n      <td>NaN</td>\n      <td>NaN</td>\n    </tr>\n    <tr>\n      <th>166</th>\n      <td>1100060151</td>\n      <td>m</td>\n      <td>iiib</td>\n      <td>1941-02-21</td>\n      <td>2021-04-07</td>\n      <td>awd</td>\n      <td>80</td>\n      <td>radio</td>\n      <td>altro</td>\n      <td>1.0</td>\n      <td>0.0</td>\n      <td>4</td>\n      <td>2</td>\n      <td>0</td>\n    </tr>\n    <tr>\n      <th>167</th>\n      <td>1100069220</td>\n      <td>m</td>\n      <td>iiia</td>\n      <td>1941-07-30</td>\n      <td>2021-05-04</td>\n      <td>awd</td>\n      <td>79</td>\n      <td>radio</td>\n      <td>altro</td>\n      <td>1.0</td>\n      <td>0.0</td>\n      <td>2</td>\n      <td>2</td>\n      <td>0</td>\n    </tr>\n  </tbody>\n</table>\n<p>168 rows × 14 columns</p>\n</div>"
     },
     "metadata": {},
     "output_type": "display_data"
    }
   ],
   "source": [
    "# Il dataframe finale con tutte le features di interesse:\n",
    "\n",
    "Clinical_Dataset_prospettico = Clinical_Dataset_Final.copy(deep=True).rename(columns={'Diagnosi Istologica': 'Diagnosi'})\n",
    "display(Clinical_Dataset_prospettico)"
   ],
   "metadata": {
    "collapsed": false
   }
  },
  {
   "cell_type": "markdown",
   "source": [
    "----------------------------------------------------------------------------------------------------------------------------------------------------------------------------------\n",
    "# IMPORT DATA FROM DIRECTORIES: Retrospettivo\n",
    "## 1) Clinical Features\n",
    "Sono importati i dati associati alle features comuni del dataset CLARO-PROSPETTICO"
   ],
   "metadata": {
    "collapsed": false
   }
  },
  {
   "cell_type": "code",
   "execution_count": 222,
   "outputs": [
    {
     "data": {
      "text/plain": "     ID paziente  Nr. Iniziali paziente                 nome    Luogo   cT  \\\n0           9309   24              b.p.    Beconcini Paolina  longoni    2   \n1          40158   15            d.c.a.     Di Censi Antonio  longoni    3   \n2          51236  120              s.f.     Sabino Felicetta   campus  NaN   \n3          52384   28              f.g.       Forte Giuseppe  longoni    4   \n4         103515  100              c.r.       Cucchi Roberto   campus    3   \n..           ...  ...               ...                  ...      ...  ...   \n125     81774643  124              s.a.    Scardetta Antonio   campus    4   \n126    100151470   73              c.m.       Carletti Mario  longoni    3   \n127    100189360   19              p.g.  Pierosara Giancarlo  longoni    4   \n128    100237360   14              m.r.         Missimi Rosa  longoni    2   \n129    100679640    1               c.g      Coletta Giorgio  longoni    2   \n\n              cN Stadio alla diagnosi  CODE STADIO  CODE CT NAD  ...  \\\n0              2                 iiia          0.0            1  ...   \n1              2                 iiia          0.0            0  ...   \n2    recidiva n2                 iiia          0.0            0  ...   \n3              1                 iiib          1.0            1  ...   \n4              2                 iiib          1.0            0  ...   \n..           ...                  ...          ...          ...  ...   \n125            1                 iiia          0.0            1  ...   \n126            3                 iiib          1.0            1  ...   \n127            2                 iiib          1.0            1  ...   \n128            2                 iiia          0.0            0  ...   \n129            2                 iiia          0.0            0  ...   \n\n      Data PFS        PFS  Cen PFS  Ultimo FUP          OS Stato Cens os  \\\n0   2013-01-15  13.733333        0  2013-01-15   13.733333   doc       1   \n1   2011-09-20  31.033333        1  2012-01-17   35.000000   dod       1   \n2   2019-04-04   9.800000        0  2019-04-04    9.800000   awd       0   \n3   2012-11-27  23.066667        1  2014-10-24   46.266667   ned       0   \n4   2019-05-10  11.733333        0  2019-05-10   11.733333   awd       0   \n..         ...        ...      ...         ...         ...   ...     ...   \n125 2019-03-07   6.266667        0  2019-03-07    6.266667   awd       0   \n126 2012-09-11   6.100000        1  2012-11-08    8.033333   dod       1   \n127 2012-09-25   8.666667        0  2012-09-25    8.666667   doc       1   \n128 2012-06-06  13.533333        1  2019-06-06   98.733333   awd       0   \n129 2007-09-04  21.200000        1  2014-08-27  106.166667   ned       0   \n\n                                                  Note  Sesso cM  \n0    morta per insuff respiratoria (non abbiamo imm...      f  0  \n1                   endoxan per recidiva, poi deceduto      m  0  \n2                                                  NaN      f  0  \n3                 prosegue controlli col dott. alberti      m  0  \n4                                                  NaN      m  0  \n..                                                 ...    ... ..  \n125                                                NaN      m  0  \n126                progressione linfangite neoplastica      m  0  \n127                morto per ascite cirrotico, scabbia      m  0  \n128                       ct in corso presso nostro dh      f  0  \n129  chiuso per condizionigenerali, non tornato dop...      m  0  \n\n[130 rows x 62 columns]",
      "text/html": "<div>\n<style scoped>\n    .dataframe tbody tr th:only-of-type {\n        vertical-align: middle;\n    }\n\n    .dataframe tbody tr th {\n        vertical-align: top;\n    }\n\n    .dataframe thead th {\n        text-align: right;\n    }\n</style>\n<table border=\"1\" class=\"dataframe\">\n  <thead>\n    <tr style=\"text-align: right;\">\n      <th></th>\n      <th>ID paziente</th>\n      <th>Nr.</th>\n      <th>Iniziali paziente</th>\n      <th>nome</th>\n      <th>Luogo</th>\n      <th>cT</th>\n      <th>cN</th>\n      <th>Stadio alla diagnosi</th>\n      <th>CODE STADIO</th>\n      <th>CODE CT NAD</th>\n      <th>...</th>\n      <th>Data PFS</th>\n      <th>PFS</th>\n      <th>Cen PFS</th>\n      <th>Ultimo FUP</th>\n      <th>OS</th>\n      <th>Stato</th>\n      <th>Cens os</th>\n      <th>Note</th>\n      <th>Sesso</th>\n      <th>cM</th>\n    </tr>\n  </thead>\n  <tbody>\n    <tr>\n      <th>0</th>\n      <td>9309</td>\n      <td>24</td>\n      <td>b.p.</td>\n      <td>Beconcini Paolina</td>\n      <td>longoni</td>\n      <td>2</td>\n      <td>2</td>\n      <td>iiia</td>\n      <td>0.0</td>\n      <td>1</td>\n      <td>...</td>\n      <td>2013-01-15</td>\n      <td>13.733333</td>\n      <td>0</td>\n      <td>2013-01-15</td>\n      <td>13.733333</td>\n      <td>doc</td>\n      <td>1</td>\n      <td>morta per insuff respiratoria (non abbiamo imm...</td>\n      <td>f</td>\n      <td>0</td>\n    </tr>\n    <tr>\n      <th>1</th>\n      <td>40158</td>\n      <td>15</td>\n      <td>d.c.a.</td>\n      <td>Di Censi Antonio</td>\n      <td>longoni</td>\n      <td>3</td>\n      <td>2</td>\n      <td>iiia</td>\n      <td>0.0</td>\n      <td>0</td>\n      <td>...</td>\n      <td>2011-09-20</td>\n      <td>31.033333</td>\n      <td>1</td>\n      <td>2012-01-17</td>\n      <td>35.000000</td>\n      <td>dod</td>\n      <td>1</td>\n      <td>endoxan per recidiva, poi deceduto</td>\n      <td>m</td>\n      <td>0</td>\n    </tr>\n    <tr>\n      <th>2</th>\n      <td>51236</td>\n      <td>120</td>\n      <td>s.f.</td>\n      <td>Sabino Felicetta</td>\n      <td>campus</td>\n      <td>NaN</td>\n      <td>recidiva n2</td>\n      <td>iiia</td>\n      <td>0.0</td>\n      <td>0</td>\n      <td>...</td>\n      <td>2019-04-04</td>\n      <td>9.800000</td>\n      <td>0</td>\n      <td>2019-04-04</td>\n      <td>9.800000</td>\n      <td>awd</td>\n      <td>0</td>\n      <td>NaN</td>\n      <td>f</td>\n      <td>0</td>\n    </tr>\n    <tr>\n      <th>3</th>\n      <td>52384</td>\n      <td>28</td>\n      <td>f.g.</td>\n      <td>Forte Giuseppe</td>\n      <td>longoni</td>\n      <td>4</td>\n      <td>1</td>\n      <td>iiib</td>\n      <td>1.0</td>\n      <td>1</td>\n      <td>...</td>\n      <td>2012-11-27</td>\n      <td>23.066667</td>\n      <td>1</td>\n      <td>2014-10-24</td>\n      <td>46.266667</td>\n      <td>ned</td>\n      <td>0</td>\n      <td>prosegue controlli col dott. alberti</td>\n      <td>m</td>\n      <td>0</td>\n    </tr>\n    <tr>\n      <th>4</th>\n      <td>103515</td>\n      <td>100</td>\n      <td>c.r.</td>\n      <td>Cucchi Roberto</td>\n      <td>campus</td>\n      <td>3</td>\n      <td>2</td>\n      <td>iiib</td>\n      <td>1.0</td>\n      <td>0</td>\n      <td>...</td>\n      <td>2019-05-10</td>\n      <td>11.733333</td>\n      <td>0</td>\n      <td>2019-05-10</td>\n      <td>11.733333</td>\n      <td>awd</td>\n      <td>0</td>\n      <td>NaN</td>\n      <td>m</td>\n      <td>0</td>\n    </tr>\n    <tr>\n      <th>...</th>\n      <td>...</td>\n      <td>...</td>\n      <td>...</td>\n      <td>...</td>\n      <td>...</td>\n      <td>...</td>\n      <td>...</td>\n      <td>...</td>\n      <td>...</td>\n      <td>...</td>\n      <td>...</td>\n      <td>...</td>\n      <td>...</td>\n      <td>...</td>\n      <td>...</td>\n      <td>...</td>\n      <td>...</td>\n      <td>...</td>\n      <td>...</td>\n      <td>...</td>\n      <td>...</td>\n    </tr>\n    <tr>\n      <th>125</th>\n      <td>81774643</td>\n      <td>124</td>\n      <td>s.a.</td>\n      <td>Scardetta Antonio</td>\n      <td>campus</td>\n      <td>4</td>\n      <td>1</td>\n      <td>iiia</td>\n      <td>0.0</td>\n      <td>1</td>\n      <td>...</td>\n      <td>2019-03-07</td>\n      <td>6.266667</td>\n      <td>0</td>\n      <td>2019-03-07</td>\n      <td>6.266667</td>\n      <td>awd</td>\n      <td>0</td>\n      <td>NaN</td>\n      <td>m</td>\n      <td>0</td>\n    </tr>\n    <tr>\n      <th>126</th>\n      <td>100151470</td>\n      <td>73</td>\n      <td>c.m.</td>\n      <td>Carletti Mario</td>\n      <td>longoni</td>\n      <td>3</td>\n      <td>3</td>\n      <td>iiib</td>\n      <td>1.0</td>\n      <td>1</td>\n      <td>...</td>\n      <td>2012-09-11</td>\n      <td>6.100000</td>\n      <td>1</td>\n      <td>2012-11-08</td>\n      <td>8.033333</td>\n      <td>dod</td>\n      <td>1</td>\n      <td>progressione linfangite neoplastica</td>\n      <td>m</td>\n      <td>0</td>\n    </tr>\n    <tr>\n      <th>127</th>\n      <td>100189360</td>\n      <td>19</td>\n      <td>p.g.</td>\n      <td>Pierosara Giancarlo</td>\n      <td>longoni</td>\n      <td>4</td>\n      <td>2</td>\n      <td>iiib</td>\n      <td>1.0</td>\n      <td>1</td>\n      <td>...</td>\n      <td>2012-09-25</td>\n      <td>8.666667</td>\n      <td>0</td>\n      <td>2012-09-25</td>\n      <td>8.666667</td>\n      <td>doc</td>\n      <td>1</td>\n      <td>morto per ascite cirrotico, scabbia</td>\n      <td>m</td>\n      <td>0</td>\n    </tr>\n    <tr>\n      <th>128</th>\n      <td>100237360</td>\n      <td>14</td>\n      <td>m.r.</td>\n      <td>Missimi Rosa</td>\n      <td>longoni</td>\n      <td>2</td>\n      <td>2</td>\n      <td>iiia</td>\n      <td>0.0</td>\n      <td>0</td>\n      <td>...</td>\n      <td>2012-06-06</td>\n      <td>13.533333</td>\n      <td>1</td>\n      <td>2019-06-06</td>\n      <td>98.733333</td>\n      <td>awd</td>\n      <td>0</td>\n      <td>ct in corso presso nostro dh</td>\n      <td>f</td>\n      <td>0</td>\n    </tr>\n    <tr>\n      <th>129</th>\n      <td>100679640</td>\n      <td>1</td>\n      <td>c.g</td>\n      <td>Coletta Giorgio</td>\n      <td>longoni</td>\n      <td>2</td>\n      <td>2</td>\n      <td>iiia</td>\n      <td>0.0</td>\n      <td>0</td>\n      <td>...</td>\n      <td>2007-09-04</td>\n      <td>21.200000</td>\n      <td>1</td>\n      <td>2014-08-27</td>\n      <td>106.166667</td>\n      <td>ned</td>\n      <td>0</td>\n      <td>chiuso per condizionigenerali, non tornato dop...</td>\n      <td>m</td>\n      <td>0</td>\n    </tr>\n  </tbody>\n</table>\n<p>130 rows × 62 columns</p>\n</div>"
     },
     "execution_count": 222,
     "metadata": {},
     "output_type": "execute_result"
    }
   ],
   "source": [
    "# In questo punto cerchiamo la tabella di informazioni di CLARO RETROSPETTIVO - Clinical DB\n",
    "directory_clinical_features = r'C:\\Users\\Ruffi\\Desktop\\PHD\\PROGETTI\\ANNO1\\SEM-EX\\DATA\\data\\CLARO\\retrospettivo\\CLINICAL FEATURES\\CLARO_retrospettivo_clinical_db.xlsx'\n",
    "# CARICHIAMO IL FOGLIO DI FEATURES COMUNI\n",
    "clinical_Data_retro = pd.read_excel(directory_clinical_features).sort_values(by=['ID paziente']).reset_index(drop=True).rename({'Tecnica': 'Trattamento'})\n",
    "clinical_Data_retro"
   ],
   "metadata": {
    "collapsed": false
   }
  },
  {
   "cell_type": "code",
   "execution_count": 223,
   "outputs": [
    {
     "name": "stdout",
     "output_type": "stream",
     "text": [
      "(array(['awd', 'doc', 'dod', 'ned'], dtype=object), array([40, 11, 51, 28], dtype=int64))\n",
      "(array(['adenocarcinoma', 'carcinoma a grandi cellule',\n",
      "       'carcinoma squamoso', 'nan', 'nos'], dtype=object), array([72,  3, 49,  3,  3], dtype=int64))\n"
     ]
    },
    {
     "data": {
      "text/plain": "     ID paziente Sesso Stadio Data di nascita Data Diagnosi Stato Trattamento  \\\n0           9309     f   iiia      1925-07-28    2011-11-30   doc       radio   \n1          40158     m   iiia      1936-07-14    2009-03-03   dod       radio   \n2          51236     f   iiia      1960-06-03    2018-06-14   awd       radio   \n3          52384     m   iiib      1937-03-08    2011-01-05   ned       radio   \n4         103515     m   iiib      1946-10-11    2018-05-23   awd       radio   \n..           ...   ...    ...             ...           ...   ...         ...   \n125     81774643     m   iiia      1948-03-27    2018-08-31   awd       altro   \n126    100151470     m   iiib      1934-05-20    2012-03-12   dod       altro   \n127    100189360     m   iiib      1948-05-20    2012-01-09   doc       radio   \n128    100237360     f   iiia      1940-12-27    2011-04-27   awd       radio   \n129    100679640     m   iiia      1944-05-11    2005-12-07   ned       radio   \n\n               Diagnosi   cT           cN  Età  \n0    carcinoma squamoso    2            2   86  \n1    carcinoma squamoso    3            2   72  \n2        adenocarcinoma  NaN  recidiva n2   58  \n3    carcinoma squamoso    4            1   73  \n4        adenocarcinoma    3            2   71  \n..                  ...  ...          ...  ...  \n125  carcinoma squamoso    4            1   70  \n126      adenocarcinoma    3            3   77  \n127  carcinoma squamoso    4            2   63  \n128  carcinoma squamoso    2            2   70  \n129  carcinoma squamoso    2            2   61  \n\n[130 rows x 11 columns]",
      "text/html": "<div>\n<style scoped>\n    .dataframe tbody tr th:only-of-type {\n        vertical-align: middle;\n    }\n\n    .dataframe tbody tr th {\n        vertical-align: top;\n    }\n\n    .dataframe thead th {\n        text-align: right;\n    }\n</style>\n<table border=\"1\" class=\"dataframe\">\n  <thead>\n    <tr style=\"text-align: right;\">\n      <th></th>\n      <th>ID paziente</th>\n      <th>Sesso</th>\n      <th>Stadio</th>\n      <th>Data di nascita</th>\n      <th>Data Diagnosi</th>\n      <th>Stato</th>\n      <th>Trattamento</th>\n      <th>Diagnosi</th>\n      <th>cT</th>\n      <th>cN</th>\n      <th>Età</th>\n    </tr>\n  </thead>\n  <tbody>\n    <tr>\n      <th>0</th>\n      <td>9309</td>\n      <td>f</td>\n      <td>iiia</td>\n      <td>1925-07-28</td>\n      <td>2011-11-30</td>\n      <td>doc</td>\n      <td>radio</td>\n      <td>carcinoma squamoso</td>\n      <td>2</td>\n      <td>2</td>\n      <td>86</td>\n    </tr>\n    <tr>\n      <th>1</th>\n      <td>40158</td>\n      <td>m</td>\n      <td>iiia</td>\n      <td>1936-07-14</td>\n      <td>2009-03-03</td>\n      <td>dod</td>\n      <td>radio</td>\n      <td>carcinoma squamoso</td>\n      <td>3</td>\n      <td>2</td>\n      <td>72</td>\n    </tr>\n    <tr>\n      <th>2</th>\n      <td>51236</td>\n      <td>f</td>\n      <td>iiia</td>\n      <td>1960-06-03</td>\n      <td>2018-06-14</td>\n      <td>awd</td>\n      <td>radio</td>\n      <td>adenocarcinoma</td>\n      <td>NaN</td>\n      <td>recidiva n2</td>\n      <td>58</td>\n    </tr>\n    <tr>\n      <th>3</th>\n      <td>52384</td>\n      <td>m</td>\n      <td>iiib</td>\n      <td>1937-03-08</td>\n      <td>2011-01-05</td>\n      <td>ned</td>\n      <td>radio</td>\n      <td>carcinoma squamoso</td>\n      <td>4</td>\n      <td>1</td>\n      <td>73</td>\n    </tr>\n    <tr>\n      <th>4</th>\n      <td>103515</td>\n      <td>m</td>\n      <td>iiib</td>\n      <td>1946-10-11</td>\n      <td>2018-05-23</td>\n      <td>awd</td>\n      <td>radio</td>\n      <td>adenocarcinoma</td>\n      <td>3</td>\n      <td>2</td>\n      <td>71</td>\n    </tr>\n    <tr>\n      <th>...</th>\n      <td>...</td>\n      <td>...</td>\n      <td>...</td>\n      <td>...</td>\n      <td>...</td>\n      <td>...</td>\n      <td>...</td>\n      <td>...</td>\n      <td>...</td>\n      <td>...</td>\n      <td>...</td>\n    </tr>\n    <tr>\n      <th>125</th>\n      <td>81774643</td>\n      <td>m</td>\n      <td>iiia</td>\n      <td>1948-03-27</td>\n      <td>2018-08-31</td>\n      <td>awd</td>\n      <td>altro</td>\n      <td>carcinoma squamoso</td>\n      <td>4</td>\n      <td>1</td>\n      <td>70</td>\n    </tr>\n    <tr>\n      <th>126</th>\n      <td>100151470</td>\n      <td>m</td>\n      <td>iiib</td>\n      <td>1934-05-20</td>\n      <td>2012-03-12</td>\n      <td>dod</td>\n      <td>altro</td>\n      <td>adenocarcinoma</td>\n      <td>3</td>\n      <td>3</td>\n      <td>77</td>\n    </tr>\n    <tr>\n      <th>127</th>\n      <td>100189360</td>\n      <td>m</td>\n      <td>iiib</td>\n      <td>1948-05-20</td>\n      <td>2012-01-09</td>\n      <td>doc</td>\n      <td>radio</td>\n      <td>carcinoma squamoso</td>\n      <td>4</td>\n      <td>2</td>\n      <td>63</td>\n    </tr>\n    <tr>\n      <th>128</th>\n      <td>100237360</td>\n      <td>f</td>\n      <td>iiia</td>\n      <td>1940-12-27</td>\n      <td>2011-04-27</td>\n      <td>awd</td>\n      <td>radio</td>\n      <td>carcinoma squamoso</td>\n      <td>2</td>\n      <td>2</td>\n      <td>70</td>\n    </tr>\n    <tr>\n      <th>129</th>\n      <td>100679640</td>\n      <td>m</td>\n      <td>iiia</td>\n      <td>1944-05-11</td>\n      <td>2005-12-07</td>\n      <td>ned</td>\n      <td>radio</td>\n      <td>carcinoma squamoso</td>\n      <td>2</td>\n      <td>2</td>\n      <td>61</td>\n    </tr>\n  </tbody>\n</table>\n<p>130 rows × 11 columns</p>\n</div>"
     },
     "metadata": {},
     "output_type": "display_data"
    },
    {
     "name": "stdout",
     "output_type": "stream",
     "text": [
      "(array(['altro', 'mista', 'radio'], dtype=object), array([43,  8, 79], dtype=int64))\n",
      "(array([0., 1.]), array([69, 61], dtype=int64))\n",
      "(array([0., 1.]), array([100,  30], dtype=int64))\n"
     ]
    }
   ],
   "source": [
    "\n",
    "\n",
    "# Eliminiamo dal dataset le righe che non hanno la data di diagnosi e lo stato\n",
    "\n",
    "feature_comuni_filter = clinical_Data_retro.dropna(subset=['Data Diagnosi', 'Stato'])\n",
    "# Primo dataset Prospettico con features\n",
    "# 1) 'ID paziente', 'Sesso', 'Stadio alla diagnosi', 'Data di nascita', 'Data Diagnosi', 'Stato'\n",
    "\n",
    "Clinical_Dataset_retrospettivo = clinical_Data_retro[['ID paziente', 'Sesso', 'Stadio alla diagnosi', 'Data di nascita', 'Data Diagnosi', 'Stato','Tecnica', 'Diagnosi', 'cT', 'cN']].rename(columns={\"Stadio alla diagnosi\": 'Stadio'}).rename({'Diagnosi': 'Diagnosi Istologica'})\n",
    "\n",
    "Clinical_Dataset_retrospettivo['Età'] =  clinical_Data_retro['Età'].astype(int)\n",
    "\n",
    "\n",
    "print(np.unique(Clinical_Dataset_retrospettivo['Stato'].to_frame(), return_counts=True))\n",
    "print(np.unique(Clinical_Dataset_retrospettivo['Diagnosi'].astype(str).to_frame(), return_counts=True))\n",
    "# Mappiamo i tipi di tumore nei tipi presenti in retrospettivo\n",
    "dictionary_mapper_Diag = {'adenocarcinoma': 'adenocarcinoma',\n",
    "                     'carcinoma squamoso': 'carcinoma squamoso',\n",
    "                     'carcinoma a grandi cellule': 'carcinoma',\n",
    "                     'nos': 'nas',\n",
    "                     'nan': 'altro'}\n",
    "Clinical_Dataset_retrospettivo['Diagnosi']= Clinical_Dataset_retrospettivo['Diagnosi'].map(dictionary_mapper_Diag)\n",
    "Clinical_Dataset_retrospettivo.rename(columns={'Tecnica': 'Trattamento'}, inplace=True)\n",
    "# Mappiamo Tutte le terapie in Radio + NAD\n",
    "Clinical_Dataset_retrospettivo['Trattamento'] = Clinical_Dataset_retrospettivo['Trattamento'].map({'3d':'radio', '3d crt':'radio', '3d+ra':'mista',  'ra':'radio'}).fillna('altro')\n",
    "\n",
    "mapper_terapia= {' 3dcrt': 'radio',\n",
    "          ' imrt':'radio',\n",
    "          ' mista':'mista',\n",
    "          ' vmat': 'radio',\n",
    "          ' vmat/chemioterapia':'radio/chemio',\n",
    "          ' vmat/immunoterapia':'radio/chemio',\n",
    "          'chemio-immunoterapia':'chemio-immunoterapia',\n",
    "          'chemioterapia':'chemioterapia',\n",
    "          'immunoterapia':'immunoterapia',\n",
    "          'nan':'altro',\n",
    "          'terapia target':'terapia target'}\n",
    "\n",
    "\n",
    "display(Clinical_Dataset_retrospettivo)\n",
    "\n",
    "# Mappiamo le tecniche\n",
    "print(np.unique(Clinical_Dataset_retrospettivo['Trattamento'].astype(str).to_frame(), return_counts=True))\n",
    "\n",
    "\n",
    "# Estraiamo le features legate alla chirurgia e alla CT concomitante:\n",
    "\n",
    "# Chirurgia III stadio/ Chemioterapia Concomitante\n",
    "Trattamento_CT_retro = clinical_Data_retro['CODE CT NAD'].fillna(0).astype(float)\n",
    "list_trattamenti_retro_CT = Trattamento_CT_retro.to_list()\n",
    "print( np.unique(list_trattamenti_retro_CT,return_counts=True))\n",
    "\n",
    "\n",
    "Trattamento_CHIRURGIA_retro = clinical_Data_retro['Chirurgia'].fillna(0).astype(float)\n",
    "list_CH_retro = Trattamento_CHIRURGIA_retro.to_list()\n",
    "print( np.unique(list_CH_retro,return_counts=True))\n",
    "\n",
    "Clinical_Dataset_retrospettivo['cM'] = pd.DataFrame(np.zeros(list_CH_retro.__len__()))\n",
    "Clinical_Dataset_retrospettivo['CT_concomitante'] = Trattamento_CT_retro\n",
    "Clinical_Dataset_retrospettivo['Chirurgia'] = Trattamento_CHIRURGIA_retro\n"
   ],
   "metadata": {
    "collapsed": false
   }
  },
  {
   "cell_type": "markdown",
   "source": [
    "# Mergiamo i Due Dataset PRO-RETRO e poi selezioniamo gli ID pazienti che ci servono"
   ],
   "metadata": {
    "collapsed": false
   }
  },
  {
   "cell_type": "code",
   "execution_count": 224,
   "outputs": [
    {
     "data": {
      "text/plain": "array([      9309,      14474,      40158,      51236,      52384,\n            58391,      81949,     103515,     105098,   80057917,\n         80060623,   80076045,   80093640,   80096063,   80099397,\n         80117772,   80119756,   80125013,   80131109,   80131835,\n         80132554,   80136256,   80143425,   80164869,   80187155,\n         80191611,   80195995,   80210284,   80210790,   80211143,\n         80214310,   80214678,   80251605,   80260907,   80409298,\n         80416707,   80420560,   80431330,   80432920,   80435230,\n         80461923,   80493676,   80504615,   80540094,   80586314,\n         80650052,   80676115,   80683238,   80698764,   80707036,\n         80753534,   80786334,   80842815,   80846016,   80859301,\n         80859691,   80865913,   80867253,   80868958,   80881989,\n         80891551,   80895174,   80896799,   80906854,   80919954,\n         80927147,   80928094,   80933414,   80934874,   80941954,\n         80946894,   80978654,   81003495,   81004714,   81011421,\n         81029034,   81032354,   81045614,   81045814,   81054469,\n         81076314,   81082932,   81088787,   81089434,   81090994,\n         81150347,   81152513,   81156967,   81162907,   81168568,\n         81172439,   81173490,   81177166,   81179934,   81181817,\n         81184362,   81184434,   81193044,   81194666,   81195593,\n         81196749,   81199379,   81202944,   81217637,   81229200,\n         81245190,   81249503,   81256743,   81271450,   81274453,\n         81287421,   81299097,   81315359,   81363875,   81368599,\n         81398087,   81399405,   81412948,   81419790,   81424703,\n         81427379,   81505383,   81528799,   81559710,   81578429,\n         81578602,   81603853,   81610071,   81626199,   81631907,\n         81645895,   81647405,   81651739,   81696732,   81697399,\n         81700929,   81701216,   81701263,   81705193,   81710829,\n         81717054,   81718995,   81719195,   81721458,   81721725,\n         81721784,   81724309,   81727103,   81728371,   81731040,\n         81731930,   81733399,   81734373,   81734841,   81736143,\n         81739735,   81742043,   81744059,   81747567,   81747653,\n         81747954,   81753727,   81754828,   81755545,   81755822,\n         81757350,   81758066,   81759177,   81759271,   81759583,\n         81761467,   81762762,   81764279,   81766119,   81767349,\n         81768455,   81770822,   81772301,   81773035,   81774121,\n         81774643,   81777801,   81779105,   81779896,   81780937,\n         81782418,   81783535,   81783998,   81785156,   81785432,\n         81785449,   81786507,   81787859,   81788776,   81789612,\n         81791795,   81792437,   81793640,   81794257,   81795823,\n         81796783,   81798043,   81798349,   81798413,   81799718,\n         81800413,   81801783,   81802027,   81802087,   81803101,\n         81806485,   81806688,   81807068,   81807546,   81807822,\n         81808871,   81809082,   81809554,   81810498,   81810514,\n         81811565,   81812396,   81813757,   81814013,   81814349,\n         81814657,   81814901,   81817785,   81818080,   81818884,\n         81819066,   81823849,   81824577,   81824735,   81825296,\n         81826208,   81827251,   81829386,   81830864,   81831522,\n         81831652,   81833666,   81834177,   81834463,   81835796,\n         81835926,   81836122,   81836226,   81838025,   81838059,\n         81842019,   81843495,   81846450,   81848656,   81848808,\n         81848911,   81851135,   81851256,   81852614,   81854341,\n         81854609,   81855186,   81857274,   81859227,   81860329,\n         81860438,   81866742,   81866995,   81869915,   81872645,\n         81872743,   81874154,   81875181,   81875216,   81882223,\n         81883108,   81884757,   81884976,   81885902,   81887249,\n         81887364,  100151470,  100189360,  100237360,  100679640,\n       1000000429, 1100001920, 1100004489, 1100004558, 1100016070,\n       1100031647, 1100033765, 1100037482, 1100041461, 1100041464,\n       1100049421, 1100060151, 1100069220])"
     },
     "execution_count": 224,
     "metadata": {},
     "output_type": "execute_result"
    }
   ],
   "source": [
    "# Mergiamo i due dataset secondo le features ottenute\n",
    "Dataset_Clinical_RetroPro = pd.concat([Clinical_Dataset_retrospettivo, Clinical_Dataset_prospettico], ignore_index=True).sort_values(by=['ID paziente']).reset_index(drop=True)\n",
    "# I dataset Clinici PRO e Retro sono stati concatenati insieme:\n",
    "Dataset_Clinical_RetroPro\n",
    "# Selezioniamo solo i pazienti che ci interessano a noi\n",
    "\n",
    "list_Patient_final = Dataset_Clinical_RetroPro['ID paziente'].astype(int).to_numpy()\n",
    "\n",
    "list_Patient_final"
   ],
   "metadata": {
    "collapsed": false
   }
  },
  {
   "cell_type": "markdown",
   "source": [
    "# IMPORT DATA FROM DIRECTORIES: Clustering Data"
   ],
   "metadata": {
    "collapsed": false
   }
  },
  {
   "cell_type": "code",
   "execution_count": 225,
   "outputs": [
    {
     "data": {
      "text/plain": "     ID paziente Sesso Stadio Stato           Trattamento            Diagnosi  \\\n0           9309     f   iiia   doc                 radio  carcinoma squamoso   \n1          40158     m   iiia   dod                 radio  carcinoma squamoso   \n2          51236     f   iiia   awd                 radio      adenocarcinoma   \n3          52384     m   iiib   ned                 radio  carcinoma squamoso   \n4          58391     m   iiib   awd                 radio  carcinoma squamoso   \n..           ...   ...    ...   ...                   ...                 ...   \n182    100151470     m   iiib   dod                 altro      adenocarcinoma   \n183    100189360     m   iiib   doc                 radio  carcinoma squamoso   \n184    100237360     f   iiia   awd                 radio  carcinoma squamoso   \n185   1000000429     m   iiia   awd                 radio           carcinoma   \n186   1100004558     m    ivb   awd  chemio-immunoterapia                 nas   \n\n      cT           cN  Età   cM  CT_concomitante  Chirurgia  \n0      2            2   86  0.0              1.0        0.0  \n1      3            2   72  0.0              0.0        0.0  \n2    NaN  recidiva n2   58  0.0              0.0        0.0  \n3      4            1   73  0.0              1.0        0.0  \n4      3            2   75    0              1.0        0.0  \n..   ...          ...  ...  ...              ...        ...  \n182    3            3   77  0.0              1.0        0.0  \n183    4            2   63  0.0              1.0        0.0  \n184    2            2   70  0.0              0.0        0.0  \n185    1            2   49    0              1.0        0.0  \n186  NaN          NaN   70  NaN              0.0        0.0  \n\n[187 rows x 12 columns]",
      "text/html": "<div>\n<style scoped>\n    .dataframe tbody tr th:only-of-type {\n        vertical-align: middle;\n    }\n\n    .dataframe tbody tr th {\n        vertical-align: top;\n    }\n\n    .dataframe thead th {\n        text-align: right;\n    }\n</style>\n<table border=\"1\" class=\"dataframe\">\n  <thead>\n    <tr style=\"text-align: right;\">\n      <th></th>\n      <th>ID paziente</th>\n      <th>Sesso</th>\n      <th>Stadio</th>\n      <th>Stato</th>\n      <th>Trattamento</th>\n      <th>Diagnosi</th>\n      <th>cT</th>\n      <th>cN</th>\n      <th>Età</th>\n      <th>cM</th>\n      <th>CT_concomitante</th>\n      <th>Chirurgia</th>\n    </tr>\n  </thead>\n  <tbody>\n    <tr>\n      <th>0</th>\n      <td>9309</td>\n      <td>f</td>\n      <td>iiia</td>\n      <td>doc</td>\n      <td>radio</td>\n      <td>carcinoma squamoso</td>\n      <td>2</td>\n      <td>2</td>\n      <td>86</td>\n      <td>0.0</td>\n      <td>1.0</td>\n      <td>0.0</td>\n    </tr>\n    <tr>\n      <th>1</th>\n      <td>40158</td>\n      <td>m</td>\n      <td>iiia</td>\n      <td>dod</td>\n      <td>radio</td>\n      <td>carcinoma squamoso</td>\n      <td>3</td>\n      <td>2</td>\n      <td>72</td>\n      <td>0.0</td>\n      <td>0.0</td>\n      <td>0.0</td>\n    </tr>\n    <tr>\n      <th>2</th>\n      <td>51236</td>\n      <td>f</td>\n      <td>iiia</td>\n      <td>awd</td>\n      <td>radio</td>\n      <td>adenocarcinoma</td>\n      <td>NaN</td>\n      <td>recidiva n2</td>\n      <td>58</td>\n      <td>0.0</td>\n      <td>0.0</td>\n      <td>0.0</td>\n    </tr>\n    <tr>\n      <th>3</th>\n      <td>52384</td>\n      <td>m</td>\n      <td>iiib</td>\n      <td>ned</td>\n      <td>radio</td>\n      <td>carcinoma squamoso</td>\n      <td>4</td>\n      <td>1</td>\n      <td>73</td>\n      <td>0.0</td>\n      <td>1.0</td>\n      <td>0.0</td>\n    </tr>\n    <tr>\n      <th>4</th>\n      <td>58391</td>\n      <td>m</td>\n      <td>iiib</td>\n      <td>awd</td>\n      <td>radio</td>\n      <td>carcinoma squamoso</td>\n      <td>3</td>\n      <td>2</td>\n      <td>75</td>\n      <td>0</td>\n      <td>1.0</td>\n      <td>0.0</td>\n    </tr>\n    <tr>\n      <th>...</th>\n      <td>...</td>\n      <td>...</td>\n      <td>...</td>\n      <td>...</td>\n      <td>...</td>\n      <td>...</td>\n      <td>...</td>\n      <td>...</td>\n      <td>...</td>\n      <td>...</td>\n      <td>...</td>\n      <td>...</td>\n    </tr>\n    <tr>\n      <th>182</th>\n      <td>100151470</td>\n      <td>m</td>\n      <td>iiib</td>\n      <td>dod</td>\n      <td>altro</td>\n      <td>adenocarcinoma</td>\n      <td>3</td>\n      <td>3</td>\n      <td>77</td>\n      <td>0.0</td>\n      <td>1.0</td>\n      <td>0.0</td>\n    </tr>\n    <tr>\n      <th>183</th>\n      <td>100189360</td>\n      <td>m</td>\n      <td>iiib</td>\n      <td>doc</td>\n      <td>radio</td>\n      <td>carcinoma squamoso</td>\n      <td>4</td>\n      <td>2</td>\n      <td>63</td>\n      <td>0.0</td>\n      <td>1.0</td>\n      <td>0.0</td>\n    </tr>\n    <tr>\n      <th>184</th>\n      <td>100237360</td>\n      <td>f</td>\n      <td>iiia</td>\n      <td>awd</td>\n      <td>radio</td>\n      <td>carcinoma squamoso</td>\n      <td>2</td>\n      <td>2</td>\n      <td>70</td>\n      <td>0.0</td>\n      <td>0.0</td>\n      <td>0.0</td>\n    </tr>\n    <tr>\n      <th>185</th>\n      <td>1000000429</td>\n      <td>m</td>\n      <td>iiia</td>\n      <td>awd</td>\n      <td>radio</td>\n      <td>carcinoma</td>\n      <td>1</td>\n      <td>2</td>\n      <td>49</td>\n      <td>0</td>\n      <td>1.0</td>\n      <td>0.0</td>\n    </tr>\n    <tr>\n      <th>186</th>\n      <td>1100004558</td>\n      <td>m</td>\n      <td>ivb</td>\n      <td>awd</td>\n      <td>chemio-immunoterapia</td>\n      <td>nas</td>\n      <td>NaN</td>\n      <td>NaN</td>\n      <td>70</td>\n      <td>NaN</td>\n      <td>0.0</td>\n      <td>0.0</td>\n    </tr>\n  </tbody>\n</table>\n<p>187 rows × 12 columns</p>\n</div>"
     },
     "metadata": {},
     "output_type": "display_data"
    }
   ],
   "source": [
    "\n",
    "# In questo punto cerchiamo la tabella di informazioni di CLARO Clusterizzato\n",
    "directory_clustering_data = r'C:\\Users\\Ruffi\\Desktop\\Deep_clustering_SEM-EX\\reports\\data_clusters_labels_K_15_.xlsx'\n",
    "# CARICHIAMO IL FOGLIO DI FEATURES COMUNI\n",
    "cl_data = pd.read_excel(directory_clustering_data)\n",
    "\n",
    "cl_data.drop_duplicates(subset=['patient ID'], inplace=True)\n",
    "#\n",
    "ID_pazienti_cl = cl_data['patient ID'].astype(int).to_numpy()\n",
    "# Lista di tutt gli ID pazienti nel dataset raw\n",
    "list_ID_pazienti_cl = np.sort(list(ID_pazienti_cl))\n",
    "\n",
    "\n",
    "# Filter the Dataframe by the presence in the Final Features\n",
    "Dataset_Clinical_RetroPro = Dataset_Clinical_RetroPro[[patient in list_ID_pazienti_cl for patient in list_Patient_final]].drop_duplicates(subset=['ID paziente']).sort_values(by=['ID paziente']).reset_index(drop=True).drop(columns=['Data Diagnosi', 'Data di nascita'])\n",
    "display(Dataset_Clinical_RetroPro)"
   ],
   "metadata": {
    "collapsed": false
   }
  },
  {
   "cell_type": "code",
   "execution_count": 227,
   "outputs": [
    {
     "data": {
      "text/plain": "     ID paziente Sesso Stadio Stato           Trattamento            Diagnosi  \\\n0           9309     f   iiia   doc                 radio  carcinoma squamoso   \n1          40158     m   iiia   dod                 radio  carcinoma squamoso   \n2          51236     f   iiia   awd                 radio      adenocarcinoma   \n3          52384     m   iiib   ned                 radio  carcinoma squamoso   \n4          58391     m   iiib   awd                 radio  carcinoma squamoso   \n..           ...   ...    ...   ...                   ...                 ...   \n182    100151470     m   iiib   dod                 altro      adenocarcinoma   \n183    100189360     m   iiib   doc                 radio  carcinoma squamoso   \n184    100237360     f   iiia   awd                 radio  carcinoma squamoso   \n185   1000000429     m   iiia   awd                 radio           carcinoma   \n186   1100004558     m    ivb   awd  chemio-immunoterapia                 nas   \n\n      cT           cN  Età   cM  CT_concomitante  Chirurgia  label OS  \n0      2            2   86  0.0              1.0        0.0         0  \n1      3            2   72  0.0              0.0        0.0         0  \n2    NaN  recidiva n2   58  0.0              0.0        0.0         1  \n3      4            1   73  0.0              1.0        0.0         1  \n4      3            2   75    0              1.0        0.0         1  \n..   ...          ...  ...  ...              ...        ...       ...  \n182    3            3   77  0.0              1.0        0.0         0  \n183    4            2   63  0.0              1.0        0.0         0  \n184    2            2   70  0.0              0.0        0.0         1  \n185    1            2   49    0              1.0        0.0         1  \n186  NaN          NaN   70  NaN              0.0        0.0         1  \n\n[187 rows x 13 columns]",
      "text/html": "<div>\n<style scoped>\n    .dataframe tbody tr th:only-of-type {\n        vertical-align: middle;\n    }\n\n    .dataframe tbody tr th {\n        vertical-align: top;\n    }\n\n    .dataframe thead th {\n        text-align: right;\n    }\n</style>\n<table border=\"1\" class=\"dataframe\">\n  <thead>\n    <tr style=\"text-align: right;\">\n      <th></th>\n      <th>ID paziente</th>\n      <th>Sesso</th>\n      <th>Stadio</th>\n      <th>Stato</th>\n      <th>Trattamento</th>\n      <th>Diagnosi</th>\n      <th>cT</th>\n      <th>cN</th>\n      <th>Età</th>\n      <th>cM</th>\n      <th>CT_concomitante</th>\n      <th>Chirurgia</th>\n      <th>label OS</th>\n    </tr>\n  </thead>\n  <tbody>\n    <tr>\n      <th>0</th>\n      <td>9309</td>\n      <td>f</td>\n      <td>iiia</td>\n      <td>doc</td>\n      <td>radio</td>\n      <td>carcinoma squamoso</td>\n      <td>2</td>\n      <td>2</td>\n      <td>86</td>\n      <td>0.0</td>\n      <td>1.0</td>\n      <td>0.0</td>\n      <td>0</td>\n    </tr>\n    <tr>\n      <th>1</th>\n      <td>40158</td>\n      <td>m</td>\n      <td>iiia</td>\n      <td>dod</td>\n      <td>radio</td>\n      <td>carcinoma squamoso</td>\n      <td>3</td>\n      <td>2</td>\n      <td>72</td>\n      <td>0.0</td>\n      <td>0.0</td>\n      <td>0.0</td>\n      <td>0</td>\n    </tr>\n    <tr>\n      <th>2</th>\n      <td>51236</td>\n      <td>f</td>\n      <td>iiia</td>\n      <td>awd</td>\n      <td>radio</td>\n      <td>adenocarcinoma</td>\n      <td>NaN</td>\n      <td>recidiva n2</td>\n      <td>58</td>\n      <td>0.0</td>\n      <td>0.0</td>\n      <td>0.0</td>\n      <td>1</td>\n    </tr>\n    <tr>\n      <th>3</th>\n      <td>52384</td>\n      <td>m</td>\n      <td>iiib</td>\n      <td>ned</td>\n      <td>radio</td>\n      <td>carcinoma squamoso</td>\n      <td>4</td>\n      <td>1</td>\n      <td>73</td>\n      <td>0.0</td>\n      <td>1.0</td>\n      <td>0.0</td>\n      <td>1</td>\n    </tr>\n    <tr>\n      <th>4</th>\n      <td>58391</td>\n      <td>m</td>\n      <td>iiib</td>\n      <td>awd</td>\n      <td>radio</td>\n      <td>carcinoma squamoso</td>\n      <td>3</td>\n      <td>2</td>\n      <td>75</td>\n      <td>0</td>\n      <td>1.0</td>\n      <td>0.0</td>\n      <td>1</td>\n    </tr>\n    <tr>\n      <th>...</th>\n      <td>...</td>\n      <td>...</td>\n      <td>...</td>\n      <td>...</td>\n      <td>...</td>\n      <td>...</td>\n      <td>...</td>\n      <td>...</td>\n      <td>...</td>\n      <td>...</td>\n      <td>...</td>\n      <td>...</td>\n      <td>...</td>\n    </tr>\n    <tr>\n      <th>182</th>\n      <td>100151470</td>\n      <td>m</td>\n      <td>iiib</td>\n      <td>dod</td>\n      <td>altro</td>\n      <td>adenocarcinoma</td>\n      <td>3</td>\n      <td>3</td>\n      <td>77</td>\n      <td>0.0</td>\n      <td>1.0</td>\n      <td>0.0</td>\n      <td>0</td>\n    </tr>\n    <tr>\n      <th>183</th>\n      <td>100189360</td>\n      <td>m</td>\n      <td>iiib</td>\n      <td>doc</td>\n      <td>radio</td>\n      <td>carcinoma squamoso</td>\n      <td>4</td>\n      <td>2</td>\n      <td>63</td>\n      <td>0.0</td>\n      <td>1.0</td>\n      <td>0.0</td>\n      <td>0</td>\n    </tr>\n    <tr>\n      <th>184</th>\n      <td>100237360</td>\n      <td>f</td>\n      <td>iiia</td>\n      <td>awd</td>\n      <td>radio</td>\n      <td>carcinoma squamoso</td>\n      <td>2</td>\n      <td>2</td>\n      <td>70</td>\n      <td>0.0</td>\n      <td>0.0</td>\n      <td>0.0</td>\n      <td>1</td>\n    </tr>\n    <tr>\n      <th>185</th>\n      <td>1000000429</td>\n      <td>m</td>\n      <td>iiia</td>\n      <td>awd</td>\n      <td>radio</td>\n      <td>carcinoma</td>\n      <td>1</td>\n      <td>2</td>\n      <td>49</td>\n      <td>0</td>\n      <td>1.0</td>\n      <td>0.0</td>\n      <td>1</td>\n    </tr>\n    <tr>\n      <th>186</th>\n      <td>1100004558</td>\n      <td>m</td>\n      <td>ivb</td>\n      <td>awd</td>\n      <td>chemio-immunoterapia</td>\n      <td>nas</td>\n      <td>NaN</td>\n      <td>NaN</td>\n      <td>70</td>\n      <td>NaN</td>\n      <td>0.0</td>\n      <td>0.0</td>\n      <td>1</td>\n    </tr>\n  </tbody>\n</table>\n<p>187 rows × 13 columns</p>\n</div>"
     },
     "metadata": {},
     "output_type": "display_data"
    }
   ],
   "source": [
    "\n",
    "\n",
    "# In questo punto cerchiamo la tabella di informazioni di CLARO Clusterizzato\n",
    "directory_labels_data = r'C:\\Users\\Ruffi\\OneDrive - Università Campus Bio-Medico di Roma\\DB_claro_\\CLARO CLINICAL DATA\\material\\dataset\\2023-02-01 00-00\\labels.csv'\n",
    "\n",
    "labels_CLARO = pd.read_csv(directory_labels_data).sort_values(by=['ID'])\n",
    "labels_ = labels_CLARO['label'].map({'censored': 1, 'not censored': 0}).to_frame()[[patient in list_ID_pazienti_cl for patient in labels_CLARO['ID'].astype(int).to_numpy()]].reset_index(drop=True)\n",
    "Dataset_Clinical_RetroPro['label OS'] = labels_\n",
    "display(Dataset_Clinical_RetroPro)\n",
    "\n",
    "# Salviamo la tabella nella cartella Data\n",
    "Dataset_Clinical_RetroPro.to_excel(\"data/RETRO_PR_Dataset_Clinical.xlsx\",)\n",
    "\n"
   ],
   "metadata": {
    "collapsed": false
   }
  },
  {
   "cell_type": "code",
   "execution_count": 226,
   "outputs": [],
   "source": [],
   "metadata": {
    "collapsed": false
   }
  },
  {
   "cell_type": "code",
   "execution_count": 226,
   "outputs": [],
   "source": [],
   "metadata": {
    "collapsed": false
   }
  }
 ],
 "metadata": {
  "kernelspec": {
   "name": "semex_env",
   "language": "python",
   "display_name": "Semex_env"
  },
  "language_info": {
   "codemirror_mode": {
    "name": "ipython",
    "version": 3
   },
   "file_extension": ".py",
   "mimetype": "text/x-python",
   "name": "python",
   "nbconvert_exporter": "python",
   "pygments_lexer": "ipython3",
   "version": "3.9.0"
  }
 },
 "nbformat": 4,
 "nbformat_minor": 1
}
