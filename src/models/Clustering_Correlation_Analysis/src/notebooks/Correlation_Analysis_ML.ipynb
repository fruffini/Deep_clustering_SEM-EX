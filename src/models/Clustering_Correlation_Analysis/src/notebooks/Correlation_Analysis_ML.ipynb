{
 "cells": [
  {
   "cell_type": "markdown",
   "source": [
    "---------------------------------------------------------------------------------------------------------------------------------------------------------------------------------\n",
    "---------------------------------------------------------------------------------------------------------------------------------------------------------------------------------\n",
    "\n",
    "# **SEM-EX CORRELATION ANALYSIS**\n",
    "\n",
    "### Import Libraries"
   ],
   "metadata": {
    "collapsed": false
   }
  },
  {
   "cell_type": "code",
   "execution_count": 199,
   "outputs": [],
   "source": [
    "import pandas as pd\n",
    "import numpy as np\n",
    "from sklearn.model_selection import train_test_split\n",
    "from sklearn.preprocessing import OneHotEncoder\n",
    "from sklearn.compose import make_column_transformer\n",
    "from sklearn.pipeline import make_pipeline\n",
    "from sklearn.ensemble import RandomForestClassifier\n",
    "from sklearn.metrics import accuracy_score, confusion_matrix, precision_score, recall_score, roc_auc_score, roc_curve, f1_score\n",
    "import matplotlib.pyplot as plt"
   ],
   "metadata": {
    "collapsed": false
   }
  },
  {
   "cell_type": "markdown",
   "source": [
    "### Dataset Import\n",
    "\n",
    "\n"
   ],
   "metadata": {
    "collapsed": false
   }
  },
  {
   "cell_type": "code",
   "execution_count": 200,
   "outputs": [
    {
     "data": {
      "text/plain": "            Sesso Stadio Stato           Trattamento            Diagnosi   cT  \\\nID paziente                                                                     \n9309            f   iiia   doc                 radio  carcinoma squamoso  2.0   \n40158           m   iiia   dod                 radio  carcinoma squamoso  3.0   \n51236           f   iiia   awd                 radio      adenocarcinoma  NaN   \n52384           m   iiib   ned                 radio  carcinoma squamoso  4.0   \n58391           m   iiib   awd                 radio  carcinoma squamoso  3.0   \n...           ...    ...   ...                   ...                 ...  ...   \n100151470       m   iiib   dod                 altro      adenocarcinoma  3.0   \n100189360       m   iiib   doc                 radio  carcinoma squamoso  4.0   \n100237360       f   iiia   awd                 radio  carcinoma squamoso  2.0   \n1000000429      m   iiia   awd                 radio           carcinoma  1.0   \n1100004558      m    ivb   awd  chemio-immunoterapia                 nas  NaN   \n\n              cN  Età  cM  CT_concomitante  Chirurgia  label OS  \nID paziente                                                      \n9309         2.0   86   0                1          0         0  \n40158        2.0   72   0                0          0         0  \n51236        2.0   58   0                0          0         1  \n52384        1.0   73   0                1          0         1  \n58391        2.0   75   0                1          0         1  \n...          ...  ...  ..              ...        ...       ...  \n100151470    3.0   77   0                1          0         0  \n100189360    2.0   63   0                1          0         0  \n100237360    2.0   70   0                0          0         1  \n1000000429   2.0   49   0                1          0         1  \n1100004558   NaN   70   1                0          0         1  \n\n[187 rows x 12 columns]",
      "text/html": "<div>\n<style scoped>\n    .dataframe tbody tr th:only-of-type {\n        vertical-align: middle;\n    }\n\n    .dataframe tbody tr th {\n        vertical-align: top;\n    }\n\n    .dataframe thead th {\n        text-align: right;\n    }\n</style>\n<table border=\"1\" class=\"dataframe\">\n  <thead>\n    <tr style=\"text-align: right;\">\n      <th></th>\n      <th>Sesso</th>\n      <th>Stadio</th>\n      <th>Stato</th>\n      <th>Trattamento</th>\n      <th>Diagnosi</th>\n      <th>cT</th>\n      <th>cN</th>\n      <th>Età</th>\n      <th>cM</th>\n      <th>CT_concomitante</th>\n      <th>Chirurgia</th>\n      <th>label OS</th>\n    </tr>\n    <tr>\n      <th>ID paziente</th>\n      <th></th>\n      <th></th>\n      <th></th>\n      <th></th>\n      <th></th>\n      <th></th>\n      <th></th>\n      <th></th>\n      <th></th>\n      <th></th>\n      <th></th>\n      <th></th>\n    </tr>\n  </thead>\n  <tbody>\n    <tr>\n      <th>9309</th>\n      <td>f</td>\n      <td>iiia</td>\n      <td>doc</td>\n      <td>radio</td>\n      <td>carcinoma squamoso</td>\n      <td>2.0</td>\n      <td>2.0</td>\n      <td>86</td>\n      <td>0</td>\n      <td>1</td>\n      <td>0</td>\n      <td>0</td>\n    </tr>\n    <tr>\n      <th>40158</th>\n      <td>m</td>\n      <td>iiia</td>\n      <td>dod</td>\n      <td>radio</td>\n      <td>carcinoma squamoso</td>\n      <td>3.0</td>\n      <td>2.0</td>\n      <td>72</td>\n      <td>0</td>\n      <td>0</td>\n      <td>0</td>\n      <td>0</td>\n    </tr>\n    <tr>\n      <th>51236</th>\n      <td>f</td>\n      <td>iiia</td>\n      <td>awd</td>\n      <td>radio</td>\n      <td>adenocarcinoma</td>\n      <td>NaN</td>\n      <td>2.0</td>\n      <td>58</td>\n      <td>0</td>\n      <td>0</td>\n      <td>0</td>\n      <td>1</td>\n    </tr>\n    <tr>\n      <th>52384</th>\n      <td>m</td>\n      <td>iiib</td>\n      <td>ned</td>\n      <td>radio</td>\n      <td>carcinoma squamoso</td>\n      <td>4.0</td>\n      <td>1.0</td>\n      <td>73</td>\n      <td>0</td>\n      <td>1</td>\n      <td>0</td>\n      <td>1</td>\n    </tr>\n    <tr>\n      <th>58391</th>\n      <td>m</td>\n      <td>iiib</td>\n      <td>awd</td>\n      <td>radio</td>\n      <td>carcinoma squamoso</td>\n      <td>3.0</td>\n      <td>2.0</td>\n      <td>75</td>\n      <td>0</td>\n      <td>1</td>\n      <td>0</td>\n      <td>1</td>\n    </tr>\n    <tr>\n      <th>...</th>\n      <td>...</td>\n      <td>...</td>\n      <td>...</td>\n      <td>...</td>\n      <td>...</td>\n      <td>...</td>\n      <td>...</td>\n      <td>...</td>\n      <td>...</td>\n      <td>...</td>\n      <td>...</td>\n      <td>...</td>\n    </tr>\n    <tr>\n      <th>100151470</th>\n      <td>m</td>\n      <td>iiib</td>\n      <td>dod</td>\n      <td>altro</td>\n      <td>adenocarcinoma</td>\n      <td>3.0</td>\n      <td>3.0</td>\n      <td>77</td>\n      <td>0</td>\n      <td>1</td>\n      <td>0</td>\n      <td>0</td>\n    </tr>\n    <tr>\n      <th>100189360</th>\n      <td>m</td>\n      <td>iiib</td>\n      <td>doc</td>\n      <td>radio</td>\n      <td>carcinoma squamoso</td>\n      <td>4.0</td>\n      <td>2.0</td>\n      <td>63</td>\n      <td>0</td>\n      <td>1</td>\n      <td>0</td>\n      <td>0</td>\n    </tr>\n    <tr>\n      <th>100237360</th>\n      <td>f</td>\n      <td>iiia</td>\n      <td>awd</td>\n      <td>radio</td>\n      <td>carcinoma squamoso</td>\n      <td>2.0</td>\n      <td>2.0</td>\n      <td>70</td>\n      <td>0</td>\n      <td>0</td>\n      <td>0</td>\n      <td>1</td>\n    </tr>\n    <tr>\n      <th>1000000429</th>\n      <td>m</td>\n      <td>iiia</td>\n      <td>awd</td>\n      <td>radio</td>\n      <td>carcinoma</td>\n      <td>1.0</td>\n      <td>2.0</td>\n      <td>49</td>\n      <td>0</td>\n      <td>1</td>\n      <td>0</td>\n      <td>1</td>\n    </tr>\n    <tr>\n      <th>1100004558</th>\n      <td>m</td>\n      <td>ivb</td>\n      <td>awd</td>\n      <td>chemio-immunoterapia</td>\n      <td>nas</td>\n      <td>NaN</td>\n      <td>NaN</td>\n      <td>70</td>\n      <td>1</td>\n      <td>0</td>\n      <td>0</td>\n      <td>1</td>\n    </tr>\n  </tbody>\n</table>\n<p>187 rows × 12 columns</p>\n</div>"
     },
     "metadata": {},
     "output_type": "display_data"
    }
   ],
   "source": [
    "Clinical_Claro_features = pd.read_excel(r'C:\\Users\\Ruffi\\Desktop\\Deep_clustering_SEM-EX\\src\\models\\Clustering_Correlation_Analysis\\data\\RETRO_PR_Dataset_Clinical.xlsx', index_col=1).drop(columns=['Unnamed: 0'])\n",
    "display(Clinical_Claro_features)"
   ],
   "metadata": {
    "collapsed": false
   }
  },
  {
   "cell_type": "markdown",
   "source": [
    "## Exploring some statistics related to Data\n",
    "In this block cell we examinate the statistics underlying each features inside the clinical featurs distribution."
   ],
   "metadata": {
    "collapsed": false
   }
  },
  {
   "cell_type": "code",
   "execution_count": 201,
   "outputs": [
    {
     "data": {
      "text/plain": "               cT          cN         Età          cM  CT_concomitante  \\\ncount  151.000000  161.000000  187.000000  187.000000       187.000000   \nmean     2.947020    1.720497   68.641711    0.133690         0.508021   \nstd      0.914972    0.776299   10.274458    0.341232         0.501278   \nmin      0.000000    0.000000   38.000000    0.000000         0.000000   \n25%      2.000000    1.000000   62.000000    0.000000         0.000000   \n50%      3.000000    2.000000   70.000000    0.000000         1.000000   \n75%      4.000000    2.000000   77.000000    0.000000         1.000000   \nmax      4.000000    3.000000   92.000000    1.000000         1.000000   \n\n        Chirurgia    label OS  \ncount  187.000000  187.000000  \nmean     0.197861    0.614973  \nstd      0.399456    0.487908  \nmin      0.000000    0.000000  \n25%      0.000000    0.000000  \n50%      0.000000    1.000000  \n75%      0.000000    1.000000  \nmax      1.000000    1.000000  ",
      "text/html": "<div>\n<style scoped>\n    .dataframe tbody tr th:only-of-type {\n        vertical-align: middle;\n    }\n\n    .dataframe tbody tr th {\n        vertical-align: top;\n    }\n\n    .dataframe thead th {\n        text-align: right;\n    }\n</style>\n<table border=\"1\" class=\"dataframe\">\n  <thead>\n    <tr style=\"text-align: right;\">\n      <th></th>\n      <th>cT</th>\n      <th>cN</th>\n      <th>Età</th>\n      <th>cM</th>\n      <th>CT_concomitante</th>\n      <th>Chirurgia</th>\n      <th>label OS</th>\n    </tr>\n  </thead>\n  <tbody>\n    <tr>\n      <th>count</th>\n      <td>151.000000</td>\n      <td>161.000000</td>\n      <td>187.000000</td>\n      <td>187.000000</td>\n      <td>187.000000</td>\n      <td>187.000000</td>\n      <td>187.000000</td>\n    </tr>\n    <tr>\n      <th>mean</th>\n      <td>2.947020</td>\n      <td>1.720497</td>\n      <td>68.641711</td>\n      <td>0.133690</td>\n      <td>0.508021</td>\n      <td>0.197861</td>\n      <td>0.614973</td>\n    </tr>\n    <tr>\n      <th>std</th>\n      <td>0.914972</td>\n      <td>0.776299</td>\n      <td>10.274458</td>\n      <td>0.341232</td>\n      <td>0.501278</td>\n      <td>0.399456</td>\n      <td>0.487908</td>\n    </tr>\n    <tr>\n      <th>min</th>\n      <td>0.000000</td>\n      <td>0.000000</td>\n      <td>38.000000</td>\n      <td>0.000000</td>\n      <td>0.000000</td>\n      <td>0.000000</td>\n      <td>0.000000</td>\n    </tr>\n    <tr>\n      <th>25%</th>\n      <td>2.000000</td>\n      <td>1.000000</td>\n      <td>62.000000</td>\n      <td>0.000000</td>\n      <td>0.000000</td>\n      <td>0.000000</td>\n      <td>0.000000</td>\n    </tr>\n    <tr>\n      <th>50%</th>\n      <td>3.000000</td>\n      <td>2.000000</td>\n      <td>70.000000</td>\n      <td>0.000000</td>\n      <td>1.000000</td>\n      <td>0.000000</td>\n      <td>1.000000</td>\n    </tr>\n    <tr>\n      <th>75%</th>\n      <td>4.000000</td>\n      <td>2.000000</td>\n      <td>77.000000</td>\n      <td>0.000000</td>\n      <td>1.000000</td>\n      <td>0.000000</td>\n      <td>1.000000</td>\n    </tr>\n    <tr>\n      <th>max</th>\n      <td>4.000000</td>\n      <td>3.000000</td>\n      <td>92.000000</td>\n      <td>1.000000</td>\n      <td>1.000000</td>\n      <td>1.000000</td>\n      <td>1.000000</td>\n    </tr>\n  </tbody>\n</table>\n</div>"
     },
     "execution_count": 201,
     "metadata": {},
     "output_type": "execute_result"
    }
   ],
   "source": [
    "Clinical_Claro_features.describe()"
   ],
   "metadata": {
    "collapsed": false
   }
  },
  {
   "cell_type": "markdown",
   "source": [
    "# 1) BASELINE: Clinical features alone\n",
    "------------------------------------------------------------------------------------------------------------------------------------------------------------------------------------------------------------------------------------------------------------\n",
    "### Features and Targets and Convert Data to Arrays\n",
    "we need to separate the data into the features and targets. The target, also known as the label, is the value we want to predict,\n",
    " in this case the actual max temperature and the features are all the columns the model uses to make a prediction.\n",
    " We will also convert the Pandas dataframes to Numpy arrays because that is the way the algorithm works. (I save the column headers, which are the names of the features, to a list to use for later visualization).\n",
    "\n",
    "### Labels Encoder\n",
    "Specifically, the LabelEncoder of creating an integer encoding of labels.\n"
   ],
   "metadata": {
    "collapsed": false
   }
  },
  {
   "cell_type": "code",
   "execution_count": 202,
   "outputs": [
    {
     "data": {
      "text/plain": "            Sesso Stadio Stato           Trattamento            Diagnosi  \\\nID paziente                                                                \n9309            f   iiia   doc                 radio  carcinoma squamoso   \n40158           m   iiia   dod                 radio  carcinoma squamoso   \n51236           f   iiia   awd                 radio      adenocarcinoma   \n52384           m   iiib   ned                 radio  carcinoma squamoso   \n58391           m   iiib   awd                 radio  carcinoma squamoso   \n...           ...    ...   ...                   ...                 ...   \n100151470       m   iiib   dod                 altro      adenocarcinoma   \n100189360       m   iiib   doc                 radio  carcinoma squamoso   \n100237360       f   iiia   awd                 radio  carcinoma squamoso   \n1000000429      m   iiia   awd                 radio           carcinoma   \n1100004558      m    ivb   awd  chemio-immunoterapia                 nas   \n\n               cT    cN  Età  cM  CT_concomitante  Chirurgia  \nID paziente                                                   \n9309          2.0   2.0   86   0                1          0  \n40158         3.0   2.0   72   0                0          0  \n51236       -99.0   2.0   58   0                0          0  \n52384         4.0   1.0   73   0                1          0  \n58391         3.0   2.0   75   0                1          0  \n...           ...   ...  ...  ..              ...        ...  \n100151470     3.0   3.0   77   0                1          0  \n100189360     4.0   2.0   63   0                1          0  \n100237360     2.0   2.0   70   0                0          0  \n1000000429    1.0   2.0   49   0                1          0  \n1100004558  -99.0 -99.0   70   1                0          0  \n\n[187 rows x 11 columns]",
      "text/html": "<div>\n<style scoped>\n    .dataframe tbody tr th:only-of-type {\n        vertical-align: middle;\n    }\n\n    .dataframe tbody tr th {\n        vertical-align: top;\n    }\n\n    .dataframe thead th {\n        text-align: right;\n    }\n</style>\n<table border=\"1\" class=\"dataframe\">\n  <thead>\n    <tr style=\"text-align: right;\">\n      <th></th>\n      <th>Sesso</th>\n      <th>Stadio</th>\n      <th>Stato</th>\n      <th>Trattamento</th>\n      <th>Diagnosi</th>\n      <th>cT</th>\n      <th>cN</th>\n      <th>Età</th>\n      <th>cM</th>\n      <th>CT_concomitante</th>\n      <th>Chirurgia</th>\n    </tr>\n    <tr>\n      <th>ID paziente</th>\n      <th></th>\n      <th></th>\n      <th></th>\n      <th></th>\n      <th></th>\n      <th></th>\n      <th></th>\n      <th></th>\n      <th></th>\n      <th></th>\n      <th></th>\n    </tr>\n  </thead>\n  <tbody>\n    <tr>\n      <th>9309</th>\n      <td>f</td>\n      <td>iiia</td>\n      <td>doc</td>\n      <td>radio</td>\n      <td>carcinoma squamoso</td>\n      <td>2.0</td>\n      <td>2.0</td>\n      <td>86</td>\n      <td>0</td>\n      <td>1</td>\n      <td>0</td>\n    </tr>\n    <tr>\n      <th>40158</th>\n      <td>m</td>\n      <td>iiia</td>\n      <td>dod</td>\n      <td>radio</td>\n      <td>carcinoma squamoso</td>\n      <td>3.0</td>\n      <td>2.0</td>\n      <td>72</td>\n      <td>0</td>\n      <td>0</td>\n      <td>0</td>\n    </tr>\n    <tr>\n      <th>51236</th>\n      <td>f</td>\n      <td>iiia</td>\n      <td>awd</td>\n      <td>radio</td>\n      <td>adenocarcinoma</td>\n      <td>-99.0</td>\n      <td>2.0</td>\n      <td>58</td>\n      <td>0</td>\n      <td>0</td>\n      <td>0</td>\n    </tr>\n    <tr>\n      <th>52384</th>\n      <td>m</td>\n      <td>iiib</td>\n      <td>ned</td>\n      <td>radio</td>\n      <td>carcinoma squamoso</td>\n      <td>4.0</td>\n      <td>1.0</td>\n      <td>73</td>\n      <td>0</td>\n      <td>1</td>\n      <td>0</td>\n    </tr>\n    <tr>\n      <th>58391</th>\n      <td>m</td>\n      <td>iiib</td>\n      <td>awd</td>\n      <td>radio</td>\n      <td>carcinoma squamoso</td>\n      <td>3.0</td>\n      <td>2.0</td>\n      <td>75</td>\n      <td>0</td>\n      <td>1</td>\n      <td>0</td>\n    </tr>\n    <tr>\n      <th>...</th>\n      <td>...</td>\n      <td>...</td>\n      <td>...</td>\n      <td>...</td>\n      <td>...</td>\n      <td>...</td>\n      <td>...</td>\n      <td>...</td>\n      <td>...</td>\n      <td>...</td>\n      <td>...</td>\n    </tr>\n    <tr>\n      <th>100151470</th>\n      <td>m</td>\n      <td>iiib</td>\n      <td>dod</td>\n      <td>altro</td>\n      <td>adenocarcinoma</td>\n      <td>3.0</td>\n      <td>3.0</td>\n      <td>77</td>\n      <td>0</td>\n      <td>1</td>\n      <td>0</td>\n    </tr>\n    <tr>\n      <th>100189360</th>\n      <td>m</td>\n      <td>iiib</td>\n      <td>doc</td>\n      <td>radio</td>\n      <td>carcinoma squamoso</td>\n      <td>4.0</td>\n      <td>2.0</td>\n      <td>63</td>\n      <td>0</td>\n      <td>1</td>\n      <td>0</td>\n    </tr>\n    <tr>\n      <th>100237360</th>\n      <td>f</td>\n      <td>iiia</td>\n      <td>awd</td>\n      <td>radio</td>\n      <td>carcinoma squamoso</td>\n      <td>2.0</td>\n      <td>2.0</td>\n      <td>70</td>\n      <td>0</td>\n      <td>0</td>\n      <td>0</td>\n    </tr>\n    <tr>\n      <th>1000000429</th>\n      <td>m</td>\n      <td>iiia</td>\n      <td>awd</td>\n      <td>radio</td>\n      <td>carcinoma</td>\n      <td>1.0</td>\n      <td>2.0</td>\n      <td>49</td>\n      <td>0</td>\n      <td>1</td>\n      <td>0</td>\n    </tr>\n    <tr>\n      <th>1100004558</th>\n      <td>m</td>\n      <td>ivb</td>\n      <td>awd</td>\n      <td>chemio-immunoterapia</td>\n      <td>nas</td>\n      <td>-99.0</td>\n      <td>-99.0</td>\n      <td>70</td>\n      <td>1</td>\n      <td>0</td>\n      <td>0</td>\n    </tr>\n  </tbody>\n</table>\n<p>187 rows × 11 columns</p>\n</div>"
     },
     "metadata": {},
     "output_type": "display_data"
    }
   ],
   "source": [
    "\n",
    "\n",
    "# Labels are the values we want to predict\n",
    "Y = Clinical_Claro_features.pop('label OS').astype(int)\n",
    "# Remove the labels from the features\n",
    "# axis 1 refers to the columns\n",
    "\n",
    "\n",
    "\n",
    "# Features for training\n",
    "X= Clinical_Claro_features.copy(deep=True)\n",
    "X['cT'] = pd.to_numeric( X['cT']).fillna(-99)\n",
    "X['cN'] = pd.to_numeric( X['cN']).fillna(-99)\n",
    "display(X)"
   ],
   "metadata": {
    "collapsed": false
   }
  },
  {
   "cell_type": "markdown",
   "source": [
    "\n",
    "# 1) Training and Testing Sets:\n",
    "During training, we let the model ‘see’ the answers, in this case the actual temperature, so it can learn how to predict the temperature from the features. We expect there to be some relationship between all the features and the target value, and the model’s job is to learn this relationship during training. Then, when it comes time to evaluate the model, we ask it to make predictions on a testing set where it only has access to the features (not the answers)! Because we do have the actual answers for the test set, we can compare these predictions to the true value to judge how accurate the model is. Generally, when training a model, we randomly split the data into training and testing sets to get a representation of all data points.\n",
    " I am setting the random state to 42 which means the results will be the same each time I run the split for reproducible results.\n",
    "### Hold-out\n",
    "Hold-out is when you split up your dataset into a ‘train’ and ‘test’ set. The training set is what the model is trained on, and the test set is used to see how well that model performs on unseen data. A common split when using the hold-out method is using 80% of data for training and the remaining 20% of the data for testing\n"
   ],
   "metadata": {
    "collapsed": false
   }
  },
  {
   "cell_type": "code",
   "execution_count": 203,
   "outputs": [
    {
     "name": "stdout",
     "output_type": "stream",
     "text": [
      "Sesso               object\n",
      "Stadio              object\n",
      "Stato               object\n",
      "Trattamento         object\n",
      "Diagnosi            object\n",
      "cT                 float64\n",
      "cN                 float64\n",
      "Età                  int64\n",
      "cM                   int64\n",
      "CT_concomitante      int64\n",
      "Chirurgia            int64\n",
      "dtype: object\n"
     ]
    }
   ],
   "source": [
    "\n",
    "# Using Skicit-learn to split data into training and testing sets\n",
    "# Split the data into training and testing sets:\n",
    "# Split Proportion: 80% Training / 20% Test\n",
    "random_state = 42\n",
    "X_train, X_test, train_labels, test_labels = train_test_split(X, Y, test_size = 0.20, random_state = 1, stratify=Y)\n",
    "X_train = X_train.fillna('na')\n",
    "X_test = X_test.fillna('na')\n",
    "\n",
    "# Printing of dataset type for each feature in the dataset:\n",
    "print(X_train.dtypes)\n",
    "\n"
   ],
   "metadata": {
    "collapsed": false
   }
  },
  {
   "cell_type": "markdown",
   "source": [
    "### Create a constructor to handle categorical features for us\n",
    "This is my favorite step because by recreating this new constructor, I do not need to do any transformation for any X dataframe when passing into the model. This constructor will automatically handle the categorical variables and leave numeric variables untouched. How convenient!!!"
   ],
   "metadata": {
    "collapsed": false
   }
  },
  {
   "cell_type": "code",
   "execution_count": 204,
   "outputs": [],
   "source": [
    "\n",
    "\n",
    "\n",
    "# Once done tha t we have to select features that have to be transformed:\n",
    "features_to_encode = list(X.select_dtypes(include = ['object']).columns)\n",
    "\n",
    "\n",
    "# Pass these features inside the constructor:\n",
    "col_trans = make_column_transformer(\n",
    "                        (OneHotEncoder(),features_to_encode),\n",
    "                        remainder = \"passthrough\"\n",
    "                        )\n"
   ],
   "metadata": {
    "collapsed": false
   }
  },
  {
   "cell_type": "markdown",
   "source": [
    "In this block code we print shapes of data\n",
    "\n"
   ],
   "metadata": {
    "collapsed": false
   }
  },
  {
   "cell_type": "code",
   "execution_count": 205,
   "outputs": [
    {
     "name": "stdout",
     "output_type": "stream",
     "text": [
      "Training Features Shape: (149, 11)\n",
      "Training Labels Shape: (149,)\n",
      "Testing Features Shape: (38, 11)\n",
      "Testing Labels Shape: (38,)\n",
      "Sesso               object\n",
      "Stadio              object\n",
      "Stato               object\n",
      "Trattamento         object\n",
      "Diagnosi            object\n",
      "cT                 float64\n",
      "cN                 float64\n",
      "Età                  int64\n",
      "cM                   int64\n",
      "CT_concomitante      int64\n",
      "Chirurgia            int64\n",
      "dtype: object\n"
     ]
    }
   ],
   "source": [
    "print('Training Features Shape:', X_train.shape)\n",
    "print('Training Labels Shape:', train_labels.shape)\n",
    "print('Testing Features Shape:', X_test.shape)\n",
    "print('Testing Labels Shape:', test_labels.shape)\n",
    "\n",
    "print(X_train.dtypes)\n",
    "\n",
    "\n"
   ],
   "metadata": {
    "collapsed": false
   }
  },
  {
   "cell_type": "markdown",
   "source": [
    "### 2) Train Model\n",
    "After all the work of data preparation, creating and training the model is pretty simple using Scikit-learn. We import the random forest regression model from skicit-learn, instantiate the model, and fit (scikit-learn’s name for training) the model on the training data. (Again setting the random state for reproducible results). This entire process is only 3 lines in scikit-learn!\n",
    "# Instantiate the model to train: RF Classifier"
   ],
   "metadata": {
    "collapsed": false
   }
  },
  {
   "cell_type": "code",
   "execution_count": 206,
   "outputs": [],
   "source": [
    "\n",
    "# Instantiate model with 1000 decision trees\n",
    "rf_classifier = RandomForestClassifier(\n",
    "                      min_samples_leaf=25,\n",
    "                      min_samples_split=2,\n",
    "                      n_estimators=1000,\n",
    "                      bootstrap=True,\n",
    "                      oob_score=True,\n",
    "                      n_jobs=-1,\n",
    "                      random_state=42,\n",
    "                      max_features='auto',\n",
    "                      criterion='gini')\n"
   ],
   "metadata": {
    "collapsed": false
   }
  },
  {
   "cell_type": "code",
   "execution_count": 207,
   "outputs": [
    {
     "data": {
      "text/plain": "Pipeline(steps=[('columntransformer',\n                 ColumnTransformer(remainder='passthrough',\n                                   transformers=[('onehotencoder',\n                                                  OneHotEncoder(),\n                                                  ['Sesso', 'Stadio', 'Stato',\n                                                   'Trattamento',\n                                                   'Diagnosi'])])),\n                ('randomforestclassifier',\n                 RandomForestClassifier(min_samples_leaf=25, n_estimators=1000,\n                                        n_jobs=-1, oob_score=True,\n                                        random_state=42))])"
     },
     "execution_count": 207,
     "metadata": {},
     "output_type": "execute_result"
    }
   ],
   "source": [
    "\n",
    "# Creation of the pipeline\n",
    "pipe = make_pipeline(col_trans, rf_classifier)\n",
    "pipe.fit(X_train, train_labels)\n"
   ],
   "metadata": {
    "collapsed": false
   }
  },
  {
   "cell_type": "markdown",
   "source": [
    "### 3) Make Predictions on the Test Set\n",
    "Our model has now been trained to learn the relationships between the features and the targets. The next step is figuring out how good the model is! To do this we make predictions on the test features (the model is never allowed to see the test answers). We then compare the predictions to the known answers. When performing regression, we need to make sure to use the absolute error because we expect some of our answers to be low and some to be high. We are interested in how far away our average prediction is from the actual value so we take the absolute value (as we also did when establishing the baseline).\n",
    "\n",
    "Making predictions with out model is another 1-line command in Skicit-learn.\n"
   ],
   "metadata": {
    "collapsed": false
   }
  },
  {
   "cell_type": "code",
   "execution_count": 208,
   "outputs": [],
   "source": [
    "# Use the forest's predict method on the test data\n",
    "y_predictions = pipe.predict(X_test)\n"
   ],
   "metadata": {
    "collapsed": false
   }
  },
  {
   "cell_type": "markdown",
   "source": [
    "### 4) Evaluate the classifier\n",
    "\n",
    "\n",
    "\n",
    "\n",
    "\n"
   ],
   "metadata": {
    "collapsed": false
   }
  },
  {
   "cell_type": "markdown",
   "source": [
    "#### ACCURACY:\n",
    "We compute the number of samples correclty predicted in the test set.\n"
   ],
   "metadata": {
    "collapsed": false
   }
  },
  {
   "cell_type": "code",
   "execution_count": 209,
   "outputs": [
    {
     "name": "stdout",
     "output_type": "stream",
     "text": [
      "The accuracy of the model is 89.5 %\n"
     ]
    }
   ],
   "source": [
    "accuracy_score(test_labels, y_predictions)\n",
    "print(f\"The accuracy of the model is {round(accuracy_score(test_labels,y_predictions),3)*100} %\")"
   ],
   "metadata": {
    "collapsed": false
   }
  },
  {
   "cell_type": "markdown",
   "source": [
    "#### AUC/ ROC CURVE:\n",
    "[:,1] gives the predicted probability distribution of class label 1 from the dataframe. This is important to calculate ROC_AUC score. You may ask why class label 1 and not 0. Here is what I got from sklearn document:\n",
    "\" For y_score, ‘The binary case … the scores must be the scores of the class with the greater label’. That is why we need to get label 1 instead of label 0. \".\n",
    "At the end, we compute the plot for the ROC Curve."
   ],
   "metadata": {
    "collapsed": false
   },
   "outputs": []
  },
  {
   "cell_type": "code",
   "execution_count": 210,
   "outputs": [
    {
     "name": "stdout",
     "output_type": "stream",
     "text": [
      "Train ROC AUC Score: 0.9848398169336383\n",
      "Test ROC AUC  Score: 0.9623188405797102\n"
     ]
    }
   ],
   "source": [
    "\n",
    "train_probs = pipe.predict_proba(X_train)[:,1]\n",
    "probs = pipe.predict_proba(X_test)[:,1]\n",
    "train_predictions = pipe.predict(X_train)\n",
    "\n",
    "\n",
    "# ROC AUC\n",
    "print(f'Train ROC AUC Score: {roc_auc_score(train_labels, train_probs, multi_class=\"ovr\",average=\"macro\")}')\n",
    "print(f'Test ROC AUC  Score: {roc_auc_score(test_labels, probs , multi_class=\"ovr\",average=\"macro\")}')\n",
    "y_test = test_labels\n",
    "y_train = train_labels"
   ],
   "metadata": {
    "collapsed": false
   }
  },
  {
   "cell_type": "code",
   "execution_count": 211,
   "outputs": [
    {
     "name": "stdout",
     "output_type": "stream",
     "text": [
      "Recall Baseline: 1.0 Test: 1.0 Train: 0.86\n",
      "Precision Baseline: 0.61 Test: 0.85 Train: 0.93\n",
      "Roc Baseline: 0.5 Test: 0.96 Train: 0.98\n"
     ]
    },
    {
     "data": {
      "text/plain": "<Figure size 576x432 with 1 Axes>",
      "image/png": "[encoded data removed]"
     },
     "metadata": {
      "needs_background": "light"
     },
     "output_type": "display_data"
    }
   ],
   "source": [
    "\n",
    "\n",
    "\n",
    "def evaluate_model(y_pred, probs,train_predictions, train_probs):\n",
    "    baseline = {}\n",
    "    baseline['recall']=recall_score(y_test,\n",
    "                    [1 for _ in range(len(y_test))])\n",
    "    baseline['precision'] = precision_score(y_test,\n",
    "                    [1 for _ in range(len(y_test))])\n",
    "    baseline['roc'] = 0.5\n",
    "    results = {}\n",
    "    results['recall'] = recall_score(y_test, y_pred)\n",
    "    results['precision'] = precision_score(y_test, y_pred)\n",
    "    results['roc'] = roc_auc_score(y_test, probs)\n",
    "    train_results = {}\n",
    "    train_results['recall'] = recall_score(y_train,       train_predictions, average='macro')\n",
    "    train_results['precision'] = precision_score(y_train, train_predictions, average='macro')\n",
    "    train_results['roc'] = roc_auc_score(y_train, train_probs,average='macro', multi_class=\"ovr\")\n",
    "    for metric in ['recall', 'precision', 'roc']:\n",
    "          print(f'{metric.capitalize()} Baseline: {round(baseline[metric], 2)} Test: {round(results[metric], 2)} Train: {round(train_results[metric], 2)}')\n",
    "     # Calculate false positive rates and true positive rates\n",
    "    base_fpr, base_tpr, _ = roc_curve(y_test, [1 for _ in range(len(y_test))])\n",
    "    model_fpr, model_tpr, _ = roc_curve(y_test, probs)\n",
    "    plt.figure(figsize = (8, 6))\n",
    "    plt.rcParams['font.size'] = 16\n",
    "    # Plot both curves\n",
    "    plt.plot(base_fpr, base_tpr, 'b', label = 'baseline')\n",
    "    plt.plot(model_fpr, model_tpr, 'r', label = 'model')\n",
    "    plt.legend();\n",
    "    plt.xlabel('False Positive Rate');\n",
    "    plt.ylabel('True Positive Rate'); plt.title('ROC Curves');\n",
    "    plt.show()\n",
    "\n",
    "\n",
    "evaluate_model(y_predictions,probs,train_predictions,train_probs)\n"
   ],
   "metadata": {
    "collapsed": false
   }
  },
  {
   "cell_type": "markdown",
   "source": [
    "#### Confusion matrix\n",
    "One can just simply type confusion_matrix(y_test, y_pred) to get the confusion matrix. However, let’s take a more advanced approach. Here, I create a function to plot confusion matrix, which prints and plots the confusion matrix.\n"
   ],
   "metadata": {
    "collapsed": false
   }
  },
  {
   "cell_type": "code",
   "execution_count": 212,
   "outputs": [
    {
     "data": {
      "text/plain": "<Figure size 720x720 with 2 Axes>",
      "image/png": "[encoded data removed]"
     },
     "metadata": {
      "needs_background": "light"
     },
     "output_type": "display_data"
    }
   ],
   "source": [
    "import itertools\n",
    "def plot_confusion_matrix(cm, classes, normalize = False,\n",
    "                          title='Confusion matrix',\n",
    "                          cmap=plt.cm.Greens): # can change color\n",
    "    plt.figure(figsize = (10, 10))\n",
    "    plt.imshow(cm, interpolation='nearest', cmap=cmap)\n",
    "    plt.title(title, size = 24)\n",
    "    plt.colorbar(aspect=4)\n",
    "    tick_marks = np.arange(len(classes))\n",
    "    plt.xticks(tick_marks, classes, rotation=45, size = 14)\n",
    "    plt.yticks(tick_marks, classes, size = 14)\n",
    "    fmt = '.2f' if normalize else 'd'\n",
    "    thresh = cm.max() / 2.\n",
    "    # Label the plot\n",
    "    for i, j in itertools.product(range(cm.shape[0]),   range(cm.shape[1])):\n",
    "        plt.text(j, i, format(cm[i, j], fmt),\n",
    "                 fontsize = 20,\n",
    "                 horizontalalignment=\"center\",\n",
    "                 color=\"white\" if cm[i, j] > thresh else \"black\")\n",
    "        plt.grid(None)\n",
    "        plt.tight_layout()\n",
    "        plt.ylabel('True label', size = 18)\n",
    "        plt.xlabel('Predicted label', size = 18)\n",
    "\n",
    "# Let's plot it out\n",
    "cm = confusion_matrix(y_test, y_predictions)\n",
    "plot_confusion_matrix(cm, classes = ['censored - 1', 'not censored - 0'],\n",
    "                      title = 'Censored Status Confusion Matrix')"
   ],
   "metadata": {
    "collapsed": false
   }
  },
  {
   "cell_type": "code",
   "execution_count": 212,
   "outputs": [],
   "source": [],
   "metadata": {
    "collapsed": false
   }
  }
 ],
 "metadata": {
  "kernelspec": {
   "display_name": "Python 3",
   "language": "python",
   "name": "python3"
  },
  "language_info": {
   "codemirror_mode": {
    "name": "ipython",
    "version": 2
   },
   "file_extension": ".py",
   "mimetype": "text/x-python",
   "name": "python",
   "nbconvert_exporter": "python",
   "pygments_lexer": "ipython2",
   "version": "2.7.6"
  }
 },
 "nbformat": 4,
 "nbformat_minor": 0
}
